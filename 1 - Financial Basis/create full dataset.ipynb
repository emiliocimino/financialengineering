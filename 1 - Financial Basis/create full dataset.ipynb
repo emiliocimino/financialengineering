{
 "cells": [
  {
   "cell_type": "code",
   "execution_count": 9,
   "metadata": {},
   "outputs": [],
   "source": [
    "import pandas as pd\n",
    "from glob import glob"
   ]
  },
  {
   "cell_type": "code",
   "execution_count": 14,
   "metadata": {},
   "outputs": [
    {
     "name": "stdout",
     "output_type": "stream",
     "text": [
      "data\\AAP.csv\n",
      "data\\AAPL.csv\n",
      "data\\ABBV.csv\n",
      "data\\ABT.csv\n",
      "data\\ACN.csv\n",
      "data\\ADBE.csv\n",
      "data\\AES.csv\n",
      "data\\AFL.csv\n",
      "data\\AKAM.csv\n",
      "data\\AMD.csv\n",
      "data\\ATVI.csv\n",
      "data\\GOOG.csv\n",
      "data\\IBM.csv\n",
      "data\\MMM.csv\n",
      "data\\SBUX.csv\n",
      "data\\SPY.csv\n"
     ]
    }
   ],
   "source": [
    "#We want to append data from different sources with different column names and number\n",
    "#We want to preserve data, so we do it here\n",
    "\n",
    "#Alternatively\n",
    "\n",
    "files = glob('data/*.csv')\n",
    "full_df = None\n",
    "for f in files:\n",
    "    print(f)\n",
    "    df = pd.read_csv(f)\n",
    "    \n",
    "    #It depends on how we saved data in \"data download\"\n",
    "    symbol = f.split('\\\\')[1].split('.')[0]\n",
    "    df['Name'] = symbol\n",
    "    \n",
    "    if full_df is None:\n",
    "        full_df = df\n",
    "    else:\n",
    "        #Index: numero di riga ignorato. Tanto ogni DF ha i suoi numeri\n",
    "        full_df = pd.concat([full_df, df], axis=0, ignore_index= True)\n",
    "    \n",
    "full_df.to_csv(\"sp500full.csv\", index=False)"
   ]
  },
  {
   "cell_type": "code",
   "execution_count": 15,
   "metadata": {},
   "outputs": [],
   "source": [
    "# Alternatively, we want to create a dataset with less symbols\n",
    "\n",
    "symbols = ['MMM','ABT','ABBV','ACN','ATVI','AYI','ADBE','AMD','AAP','AES','AET',\n",
    "    'AMG','AFL','A','APD','AKAM','ALK','ALB','ARE','ALXN','ALGN','ALLE',\n",
    "    'AGN','ALL','GOOGL','GOOG','MO','AMZN','AEE','AAL','AEP',\n",
    "    'BIIB','BLK','HRB','BA','BWA','BXP','BSX',\n",
    "    'BHF','BMY','AVGO','CHRW','CA','CDNS','CPB','COF','CAH','CBOE',\n",
    "    'KMX','CCL','CAT','CNC','CNP','CF','SCHW',\n",
    "    'CHTR','CVX','CMG','CB','CHD','CI','CINF','CTAS','CSCO','C','CFG',\n",
    "    'CTXS','CLX','CME','CMS','KO','CTSH','CL','CMCSA','CMA','CAG','COP',\n",
    "    'ED','STZ','COO','GLW','COST','COTY','CCI','CSRA','CSX','CMI','CVS','DHI',\n",
    "    'DHR','DRI','DVA','DE','DAL','XRAY','DVN','DLR','DFS','DISH',\n",
    "    'DG','DLTR','D','DOV','DTE','DRE','DUK','DXC','EMN','ETN',\n",
    "    'EBAY','ECL','EIX','EW','EA','EMR','ETR','EVHC','EOG','EQT','EFX','EQIX','EQR',\n",
    "    'ESS','EL','ES','RE','EXC','EXPE','EXPD','ESRX','EXR','XOM','FFIV','FAST',\n",
    "    'FRT','FDX','FIS','FITB','FE','FISV','FLS','FLR','FMC','FL','F','FTV',\n",
    "    'FBHS','BEN','FCX','GPS','GRMN','IT','GD','GE','GIS','GM','GPC','GILD',\n",
    "    'GPN','GS','GT','GWW','HAL','HBI','HOG','HIG','HAS','HCA','HP','HSIC',\n",
    "    'HSY','HES','HPE','HLT','HOLX','HD','HON','HRL','HST','HPQ','HUM','HBAN','HII',\n",
    "    'IDXX','ITW','ILMN','IR','INTC','ICE','IBM','INCY','IP','IPG','IFF','INTU',\n",
    "    'ISRG','IVZ','IQV','IRM','JBHT','SJM','JNJ','JCI','JPM','JNPR','K','KEY',\n",
    "    'KMB','KIM','KMI','KLAC','KSS','KHC','KR','LLL','LH','LRCX','LEG','LEN',\n",
    "    'LLY','LNC','LKQ','LMT','L','LOW','LYB','MTB','MAC','M','MRO','MPC','MAR','MMC','MLM',\n",
    "    'MAS','MA','MAT','MKC','MCD','MCK','MDT','MRK','MET','MTD','MGM','MCHP','MU',\n",
    "    'MSFT','MAA','MHK','TAP','MDLZ','MNST','MCO','MS','MOS','MSI','NDAQ',\n",
    "    'NOV','NAVI','NTAP','NFLX','NWL','NFX','NEM','NWSA','NWS','NEE','NLSN','NKE','NI',\n",
    "    'JWN','NSC','NTRS','NOC','NCLH','NRG','NUE','NVDA','ORLY','OXY','OMC','OKE',\n",
    "    'ORCL','PCAR','PKG','PH','PDCO','PAYX','PYPL','PNR','PEP','PKI','PRGO','PFE',\n",
    "    'PCG','PM','PSX','PNW','PXD','PNC','RL','PPG','PPL','PFG','PG','PGR',\n",
    "    'PLD','PRU','PEG','PSA','PHM','PVH','QRVO','PWR','QCOM','DGX','RRC','RJF','O',\n",
    "    'REG','REGN','RF','RSG','RMD','RHI','ROK','COL','ROP','ROST','RCL','CRM','SBAC',\n",
    "    'SCG','SLB','SNI','STX','SEE','SRE','SHW','SIG','SPG','SWKS','SLG','SNA','SO','LUV',\n",
    "    'SPGI','SWK','SBUX','STT','SRCL','SYK','SYF','SNPS','SYY','TROW','TPR',\n",
    "    'TGT','TEL','FTI','TXN','TXT','TMO','TWX','TJX','TSCO','TDG','TRV',\n",
    "    'TRIP','TSN','UDR','ULTA','USB','UAA','UA','UNP','UAL','UNH','UPS','URI',\n",
    "    'UHS','UNM','VFC','VLO','VTR','VRSN','VRSK','VZ','VRTX','V','VNO',\n",
    "    'VMC','WMT','WBA','DIS','WM','WAT','WEC','WFC','WDC','WU','WRK','WY','WHR','WMB',\n",
    "    'WYNN','XEL','XRX','XYL','YUM','ZBH','ZION','ZTS']\n",
    "\n",
    "small_symbols = {'MMM', 'ABT', 'ABBV', 'ACN', 'ATVI', 'ADBE', 'AMD', 'AAP', 'AES',\n",
    "  'AFL', 'AKAM', 'IBM', 'GOOG', 'SBUX', 'AAPL', 'SPY'}"
   ]
  },
  {
   "cell_type": "code",
   "execution_count": null,
   "metadata": {},
   "outputs": [],
   "source": [
    "\n",
    "sample = small_symbols "
   ]
  }
 ],
 "metadata": {
  "kernelspec": {
   "display_name": "Python 3",
   "language": "python",
   "name": "python3"
  },
  "language_info": {
   "codemirror_mode": {
    "name": "ipython",
    "version": 3
   },
   "file_extension": ".py",
   "mimetype": "text/x-python",
   "name": "python",
   "nbconvert_exporter": "python",
   "pygments_lexer": "ipython3",
   "version": "3.7.7"
  }
 },
 "nbformat": 4,
 "nbformat_minor": 5
}
