{
 "cells": [
  {
   "cell_type": "markdown",
   "id": "38b1ae68-8c20-49f6-82fe-a63c75b94a25",
   "metadata": {},
   "source": [
    "# RL Trend Following\n",
    "\n",
    "In questo notebook ci limitiamo, in primo luogo, ad usare le API del RL per simulare l'interazione ambiente - agente."
   ]
  },
  {
   "cell_type": "code",
   "execution_count": null,
   "id": "da8e1402-a954-4719-bd42-58e362e54ad6",
   "metadata": {},
   "outputs": [],
   "source": []
  }
 ],
 "metadata": {
  "kernelspec": {
   "display_name": "Python 3 (ipykernel)",
   "language": "python",
   "name": "python3"
  },
  "language_info": {
   "codemirror_mode": {
    "name": "ipython",
    "version": 3
   },
   "file_extension": ".py",
   "mimetype": "text/x-python",
   "name": "python",
   "nbconvert_exporter": "python",
   "pygments_lexer": "ipython3",
   "version": "3.12.5"
  }
 },
 "nbformat": 4,
 "nbformat_minor": 5
}
