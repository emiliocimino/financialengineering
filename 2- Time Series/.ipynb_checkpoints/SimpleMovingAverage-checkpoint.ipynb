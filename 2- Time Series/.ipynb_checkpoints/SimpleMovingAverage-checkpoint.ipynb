{
 "cells": [
  {
   "cell_type": "code",
   "execution_count": 2,
   "id": "56b28909-ba01-4a37-a78c-7844c8e17f85",
   "metadata": {},
   "outputs": [],
   "source": [
    "# Scarichiamo il file che è SP500 Close. Ci sarebbe wget ma su windows non esiste"
   ]
  },
  {
   "cell_type": "code",
   "execution_count": 3,
   "id": "3db12edb-dc6f-4d1a-bc57-0f100732ffec",
   "metadata": {},
   "outputs": [],
   "source": [
    "import pandas as pd\n",
    "import matplotlib.pyplot as plt\n",
    "import numpy as np"
   ]
  },
  {
   "cell_type": "code",
   "execution_count": 4,
   "id": "b3b3ace4-4982-4efb-b798-5a57ac694f6d",
   "metadata": {},
   "outputs": [],
   "source": [
    "close = pd.read_csv(\"sp500_close.csv\", index_col=0, parse_dates=True)"
   ]
  },
  {
   "cell_type": "code",
   "execution_count": 7,
   "id": "4a9d474f-b1c8-4b02-94a4-5d6cd7cced19",
   "metadata": {},
   "outputs": [],
   "source": [
    "# ATTENZIONE: usando close[[\"GOOG\"]] otteniamo un dataframe, altrimenti usando close[\"GOOG\"] otteniamo una Series!!\n",
    "goog = close[[\"GOOG\"]]"
   ]
  },
  {
   "cell_type": "code",
   "execution_count": null,
   "id": "78365d85-52ad-4be3-bf48-ffc600998f85",
   "metadata": {},
   "outputs": [],
   "source": []
  }
 ],
 "metadata": {
  "kernelspec": {
   "display_name": "Python 3 (ipykernel)",
   "language": "python",
   "name": "python3"
  },
  "language_info": {
   "codemirror_mode": {
    "name": "ipython",
    "version": 3
   },
   "file_extension": ".py",
   "mimetype": "text/x-python",
   "name": "python",
   "nbconvert_exporter": "python",
   "pygments_lexer": "ipython3",
   "version": "3.12.5"
  }
 },
 "nbformat": 4,
 "nbformat_minor": 5
}
