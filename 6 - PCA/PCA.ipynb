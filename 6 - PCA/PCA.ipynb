{
 "cells": [
  {
   "cell_type": "markdown",
   "id": "2d223e71-ca48-4897-9b8a-6a6d35579dc3",
   "metadata": {},
   "source": [
    "# PCA\n",
    "Applichiamo la PCA sia al dataset degli stock returns che a quello di SPY. Vedremo come applicarlo sui ritorni di S&P alla fine."
   ]
  },
  {
   "cell_type": "code",
   "execution_count": 45,
   "id": "cec1ced9-686d-4b31-a318-138e30656909",
   "metadata": {},
   "outputs": [],
   "source": [
    "import numpy as np\n",
    "import pandas as pd\n",
    "import matplotlib.pyplot as plt\n",
    "\n",
    "from sklearn.preprocessing import StandardScaler\n",
    "from sklearn.decomposition import PCA"
   ]
  },
  {
   "cell_type": "code",
   "execution_count": 3,
   "id": "f001a6f9-7cd3-45a7-af77-99197dd7a411",
   "metadata": {},
   "outputs": [],
   "source": [
    "df = pd.read_csv(\"sp500_closefull.csv\", index_col=\"Date\", parse_dates=True)"
   ]
  },
  {
   "cell_type": "code",
   "execution_count": 4,
   "id": "b7145015-692c-4ec7-a97c-fa8a2c5f23b3",
   "metadata": {},
   "outputs": [
    {
     "data": {
      "text/html": [
       "<div>\n",
       "<style scoped>\n",
       "    .dataframe tbody tr th:only-of-type {\n",
       "        vertical-align: middle;\n",
       "    }\n",
       "\n",
       "    .dataframe tbody tr th {\n",
       "        vertical-align: top;\n",
       "    }\n",
       "\n",
       "    .dataframe thead th {\n",
       "        text-align: right;\n",
       "    }\n",
       "</style>\n",
       "<table border=\"1\" class=\"dataframe\">\n",
       "  <thead>\n",
       "    <tr style=\"text-align: right;\">\n",
       "      <th></th>\n",
       "      <th>CSCO</th>\n",
       "      <th>UAL</th>\n",
       "      <th>TROW</th>\n",
       "      <th>ISRG</th>\n",
       "      <th>PRGO</th>\n",
       "      <th>TPR</th>\n",
       "      <th>DVN</th>\n",
       "      <th>MRO</th>\n",
       "      <th>BA</th>\n",
       "      <th>VRTX</th>\n",
       "      <th>...</th>\n",
       "      <th>M</th>\n",
       "      <th>CRM</th>\n",
       "      <th>PGR</th>\n",
       "      <th>WAT</th>\n",
       "      <th>BWA</th>\n",
       "      <th>LRCX</th>\n",
       "      <th>NWL</th>\n",
       "      <th>UAA</th>\n",
       "      <th>BLK</th>\n",
       "      <th>PPL</th>\n",
       "    </tr>\n",
       "    <tr>\n",
       "      <th>Date</th>\n",
       "      <th></th>\n",
       "      <th></th>\n",
       "      <th></th>\n",
       "      <th></th>\n",
       "      <th></th>\n",
       "      <th></th>\n",
       "      <th></th>\n",
       "      <th></th>\n",
       "      <th></th>\n",
       "      <th></th>\n",
       "      <th></th>\n",
       "      <th></th>\n",
       "      <th></th>\n",
       "      <th></th>\n",
       "      <th></th>\n",
       "      <th></th>\n",
       "      <th></th>\n",
       "      <th></th>\n",
       "      <th></th>\n",
       "      <th></th>\n",
       "      <th></th>\n",
       "    </tr>\n",
       "  </thead>\n",
       "  <tbody>\n",
       "    <tr>\n",
       "      <th>2010-01-04</th>\n",
       "      <td>24.690001</td>\n",
       "      <td>12.80</td>\n",
       "      <td>54.400002</td>\n",
       "      <td>102.923332</td>\n",
       "      <td>40.349998</td>\n",
       "      <td>36.310001</td>\n",
       "      <td>76.570000</td>\n",
       "      <td>19.153616</td>\n",
       "      <td>56.180000</td>\n",
       "      <td>44.240002</td>\n",
       "      <td>...</td>\n",
       "      <td>17.059999</td>\n",
       "      <td>18.705000</td>\n",
       "      <td>18.030001</td>\n",
       "      <td>61.630001</td>\n",
       "      <td>16.889999</td>\n",
       "      <td>39.880001</td>\n",
       "      <td>15.20</td>\n",
       "      <td>3.51000</td>\n",
       "      <td>238.580002</td>\n",
       "      <td>30.242558</td>\n",
       "    </tr>\n",
       "    <tr>\n",
       "      <th>2010-01-05</th>\n",
       "      <td>24.580000</td>\n",
       "      <td>13.91</td>\n",
       "      <td>55.009998</td>\n",
       "      <td>102.459999</td>\n",
       "      <td>38.790001</td>\n",
       "      <td>36.750000</td>\n",
       "      <td>76.650002</td>\n",
       "      <td>19.171511</td>\n",
       "      <td>58.020000</td>\n",
       "      <td>42.779999</td>\n",
       "      <td>...</td>\n",
       "      <td>16.860001</td>\n",
       "      <td>18.625000</td>\n",
       "      <td>17.969999</td>\n",
       "      <td>60.790001</td>\n",
       "      <td>17.695000</td>\n",
       "      <td>39.610001</td>\n",
       "      <td>15.11</td>\n",
       "      <td>3.61500</td>\n",
       "      <td>239.610001</td>\n",
       "      <td>29.851370</td>\n",
       "    </tr>\n",
       "    <tr>\n",
       "      <th>2010-01-06</th>\n",
       "      <td>24.420000</td>\n",
       "      <td>13.27</td>\n",
       "      <td>54.150002</td>\n",
       "      <td>103.946663</td>\n",
       "      <td>38.299999</td>\n",
       "      <td>37.470001</td>\n",
       "      <td>76.419998</td>\n",
       "      <td>19.595024</td>\n",
       "      <td>59.779999</td>\n",
       "      <td>42.029999</td>\n",
       "      <td>...</td>\n",
       "      <td>17.100000</td>\n",
       "      <td>18.592501</td>\n",
       "      <td>17.790001</td>\n",
       "      <td>60.900002</td>\n",
       "      <td>18.344999</td>\n",
       "      <td>39.430000</td>\n",
       "      <td>15.38</td>\n",
       "      <td>3.69500</td>\n",
       "      <td>234.669998</td>\n",
       "      <td>29.916569</td>\n",
       "    </tr>\n",
       "    <tr>\n",
       "      <th>2010-01-07</th>\n",
       "      <td>24.530001</td>\n",
       "      <td>13.55</td>\n",
       "      <td>54.110001</td>\n",
       "      <td>103.556664</td>\n",
       "      <td>37.990002</td>\n",
       "      <td>37.490002</td>\n",
       "      <td>75.970001</td>\n",
       "      <td>19.475725</td>\n",
       "      <td>62.200001</td>\n",
       "      <td>41.500000</td>\n",
       "      <td>...</td>\n",
       "      <td>17.490000</td>\n",
       "      <td>18.510000</td>\n",
       "      <td>17.549999</td>\n",
       "      <td>61.160000</td>\n",
       "      <td>18.594999</td>\n",
       "      <td>39.360001</td>\n",
       "      <td>15.82</td>\n",
       "      <td>3.65125</td>\n",
       "      <td>237.250000</td>\n",
       "      <td>29.627834</td>\n",
       "    </tr>\n",
       "    <tr>\n",
       "      <th>2010-01-08</th>\n",
       "      <td>24.660000</td>\n",
       "      <td>13.33</td>\n",
       "      <td>53.900002</td>\n",
       "      <td>102.986664</td>\n",
       "      <td>37.779999</td>\n",
       "      <td>37.270000</td>\n",
       "      <td>76.120003</td>\n",
       "      <td>19.505550</td>\n",
       "      <td>61.599998</td>\n",
       "      <td>40.669998</td>\n",
       "      <td>...</td>\n",
       "      <td>16.920000</td>\n",
       "      <td>18.537500</td>\n",
       "      <td>17.709999</td>\n",
       "      <td>61.209999</td>\n",
       "      <td>18.254999</td>\n",
       "      <td>40.349998</td>\n",
       "      <td>15.77</td>\n",
       "      <td>3.64375</td>\n",
       "      <td>238.919998</td>\n",
       "      <td>29.534695</td>\n",
       "    </tr>\n",
       "  </tbody>\n",
       "</table>\n",
       "<p>5 rows × 480 columns</p>\n",
       "</div>"
      ],
      "text/plain": [
       "                 CSCO    UAL       TROW        ISRG       PRGO        TPR  \\\n",
       "Date                                                                        \n",
       "2010-01-04  24.690001  12.80  54.400002  102.923332  40.349998  36.310001   \n",
       "2010-01-05  24.580000  13.91  55.009998  102.459999  38.790001  36.750000   \n",
       "2010-01-06  24.420000  13.27  54.150002  103.946663  38.299999  37.470001   \n",
       "2010-01-07  24.530001  13.55  54.110001  103.556664  37.990002  37.490002   \n",
       "2010-01-08  24.660000  13.33  53.900002  102.986664  37.779999  37.270000   \n",
       "\n",
       "                  DVN        MRO         BA       VRTX  ...          M  \\\n",
       "Date                                                    ...              \n",
       "2010-01-04  76.570000  19.153616  56.180000  44.240002  ...  17.059999   \n",
       "2010-01-05  76.650002  19.171511  58.020000  42.779999  ...  16.860001   \n",
       "2010-01-06  76.419998  19.595024  59.779999  42.029999  ...  17.100000   \n",
       "2010-01-07  75.970001  19.475725  62.200001  41.500000  ...  17.490000   \n",
       "2010-01-08  76.120003  19.505550  61.599998  40.669998  ...  16.920000   \n",
       "\n",
       "                  CRM        PGR        WAT        BWA       LRCX    NWL  \\\n",
       "Date                                                                       \n",
       "2010-01-04  18.705000  18.030001  61.630001  16.889999  39.880001  15.20   \n",
       "2010-01-05  18.625000  17.969999  60.790001  17.695000  39.610001  15.11   \n",
       "2010-01-06  18.592501  17.790001  60.900002  18.344999  39.430000  15.38   \n",
       "2010-01-07  18.510000  17.549999  61.160000  18.594999  39.360001  15.82   \n",
       "2010-01-08  18.537500  17.709999  61.209999  18.254999  40.349998  15.77   \n",
       "\n",
       "                UAA         BLK        PPL  \n",
       "Date                                        \n",
       "2010-01-04  3.51000  238.580002  30.242558  \n",
       "2010-01-05  3.61500  239.610001  29.851370  \n",
       "2010-01-06  3.69500  234.669998  29.916569  \n",
       "2010-01-07  3.65125  237.250000  29.627834  \n",
       "2010-01-08  3.64375  238.919998  29.534695  \n",
       "\n",
       "[5 rows x 480 columns]"
      ]
     },
     "execution_count": 4,
     "metadata": {},
     "output_type": "execute_result"
    }
   ],
   "source": [
    "df.head()"
   ]
  },
  {
   "cell_type": "markdown",
   "id": "b805813d-3d1e-451d-8527-940fffa643b9",
   "metadata": {},
   "source": [
    "### Concetto di Rank di una matrice\n",
    "\n",
    "Ricordiamo al volo il concetto di rango di una matrice: è il numero massimo di righe/colonne linearmente indipendenti presenti all'interno di una matrice. Se consideriamo che ogni riga e colonna siano effettivamente linearmente indipendenti tra loro, avere 2270 righe vs 480 colonne significa avere come rango massimo le 480 colonne. Il rango della matrice determina il numero massimo di autovalori non nulli. Se invece di avere tutte quelle righe, avessimo preso un numero di giorni inferiore, tipo 250, avremmo avuto un massimo di 250 autovalori non nulli, inficiando sulle feature.\n",
    "\n",
    "Questo concetto diventa molto importante nell'analisi del dato. Avere un numero di righe molto maggiore del numero di colonne permette di includere tutte le feature all'interno dell'analisi, in particolare con la PCA, data la natura della stessa"
   ]
  },
  {
   "cell_type": "code",
   "execution_count": 5,
   "id": "3ab349f9-9173-4cdd-8023-682997921ad0",
   "metadata": {},
   "outputs": [
    {
     "data": {
      "text/plain": [
       "(2270, 480)"
      ]
     },
     "execution_count": 5,
     "metadata": {},
     "output_type": "execute_result"
    }
   ],
   "source": [
    "df.shape"
   ]
  },
  {
   "cell_type": "code",
   "execution_count": 7,
   "id": "4bce6b16-539b-485d-a2ae-3c15bd34347a",
   "metadata": {},
   "outputs": [],
   "source": [
    "# drop each columns with more than 10 missing values\n",
    "df.dropna(axis=1, thresh=len(df)-10, inplace=True)"
   ]
  },
  {
   "cell_type": "code",
   "execution_count": 8,
   "id": "87e656f2-da1e-469a-b4c7-6d72b96f71a5",
   "metadata": {},
   "outputs": [
    {
     "data": {
      "text/plain": [
       "(2270, 430)"
      ]
     },
     "execution_count": 8,
     "metadata": {},
     "output_type": "execute_result"
    }
   ],
   "source": [
    "df.shape"
   ]
  },
  {
   "cell_type": "code",
   "execution_count": 9,
   "id": "29b5106e-181b-48d0-8710-4cdaca0eccb1",
   "metadata": {},
   "outputs": [
    {
     "data": {
      "text/html": [
       "<div>\n",
       "<style scoped>\n",
       "    .dataframe tbody tr th:only-of-type {\n",
       "        vertical-align: middle;\n",
       "    }\n",
       "\n",
       "    .dataframe tbody tr th {\n",
       "        vertical-align: top;\n",
       "    }\n",
       "\n",
       "    .dataframe thead th {\n",
       "        text-align: right;\n",
       "    }\n",
       "</style>\n",
       "<table border=\"1\" class=\"dataframe\">\n",
       "  <thead>\n",
       "    <tr style=\"text-align: right;\">\n",
       "      <th></th>\n",
       "      <th>CSCO</th>\n",
       "      <th>UAL</th>\n",
       "      <th>TROW</th>\n",
       "      <th>ISRG</th>\n",
       "      <th>PRGO</th>\n",
       "      <th>TPR</th>\n",
       "      <th>DVN</th>\n",
       "      <th>MRO</th>\n",
       "      <th>BA</th>\n",
       "      <th>VRTX</th>\n",
       "      <th>...</th>\n",
       "      <th>M</th>\n",
       "      <th>CRM</th>\n",
       "      <th>PGR</th>\n",
       "      <th>WAT</th>\n",
       "      <th>BWA</th>\n",
       "      <th>LRCX</th>\n",
       "      <th>NWL</th>\n",
       "      <th>UAA</th>\n",
       "      <th>BLK</th>\n",
       "      <th>PPL</th>\n",
       "    </tr>\n",
       "    <tr>\n",
       "      <th>Date</th>\n",
       "      <th></th>\n",
       "      <th></th>\n",
       "      <th></th>\n",
       "      <th></th>\n",
       "      <th></th>\n",
       "      <th></th>\n",
       "      <th></th>\n",
       "      <th></th>\n",
       "      <th></th>\n",
       "      <th></th>\n",
       "      <th></th>\n",
       "      <th></th>\n",
       "      <th></th>\n",
       "      <th></th>\n",
       "      <th></th>\n",
       "      <th></th>\n",
       "      <th></th>\n",
       "      <th></th>\n",
       "      <th></th>\n",
       "      <th></th>\n",
       "      <th></th>\n",
       "    </tr>\n",
       "  </thead>\n",
       "  <tbody>\n",
       "    <tr>\n",
       "      <th>2010-01-04</th>\n",
       "      <td>24.690001</td>\n",
       "      <td>12.80</td>\n",
       "      <td>54.400002</td>\n",
       "      <td>102.923332</td>\n",
       "      <td>40.349998</td>\n",
       "      <td>36.310001</td>\n",
       "      <td>76.570000</td>\n",
       "      <td>19.153616</td>\n",
       "      <td>56.180000</td>\n",
       "      <td>44.240002</td>\n",
       "      <td>...</td>\n",
       "      <td>17.059999</td>\n",
       "      <td>18.705000</td>\n",
       "      <td>18.030001</td>\n",
       "      <td>61.630001</td>\n",
       "      <td>16.889999</td>\n",
       "      <td>39.880001</td>\n",
       "      <td>15.20</td>\n",
       "      <td>3.51000</td>\n",
       "      <td>238.580002</td>\n",
       "      <td>30.242558</td>\n",
       "    </tr>\n",
       "    <tr>\n",
       "      <th>2010-01-05</th>\n",
       "      <td>24.580000</td>\n",
       "      <td>13.91</td>\n",
       "      <td>55.009998</td>\n",
       "      <td>102.459999</td>\n",
       "      <td>38.790001</td>\n",
       "      <td>36.750000</td>\n",
       "      <td>76.650002</td>\n",
       "      <td>19.171511</td>\n",
       "      <td>58.020000</td>\n",
       "      <td>42.779999</td>\n",
       "      <td>...</td>\n",
       "      <td>16.860001</td>\n",
       "      <td>18.625000</td>\n",
       "      <td>17.969999</td>\n",
       "      <td>60.790001</td>\n",
       "      <td>17.695000</td>\n",
       "      <td>39.610001</td>\n",
       "      <td>15.11</td>\n",
       "      <td>3.61500</td>\n",
       "      <td>239.610001</td>\n",
       "      <td>29.851370</td>\n",
       "    </tr>\n",
       "    <tr>\n",
       "      <th>2010-01-06</th>\n",
       "      <td>24.420000</td>\n",
       "      <td>13.27</td>\n",
       "      <td>54.150002</td>\n",
       "      <td>103.946663</td>\n",
       "      <td>38.299999</td>\n",
       "      <td>37.470001</td>\n",
       "      <td>76.419998</td>\n",
       "      <td>19.595024</td>\n",
       "      <td>59.779999</td>\n",
       "      <td>42.029999</td>\n",
       "      <td>...</td>\n",
       "      <td>17.100000</td>\n",
       "      <td>18.592501</td>\n",
       "      <td>17.790001</td>\n",
       "      <td>60.900002</td>\n",
       "      <td>18.344999</td>\n",
       "      <td>39.430000</td>\n",
       "      <td>15.38</td>\n",
       "      <td>3.69500</td>\n",
       "      <td>234.669998</td>\n",
       "      <td>29.916569</td>\n",
       "    </tr>\n",
       "    <tr>\n",
       "      <th>2010-01-07</th>\n",
       "      <td>24.530001</td>\n",
       "      <td>13.55</td>\n",
       "      <td>54.110001</td>\n",
       "      <td>103.556664</td>\n",
       "      <td>37.990002</td>\n",
       "      <td>37.490002</td>\n",
       "      <td>75.970001</td>\n",
       "      <td>19.475725</td>\n",
       "      <td>62.200001</td>\n",
       "      <td>41.500000</td>\n",
       "      <td>...</td>\n",
       "      <td>17.490000</td>\n",
       "      <td>18.510000</td>\n",
       "      <td>17.549999</td>\n",
       "      <td>61.160000</td>\n",
       "      <td>18.594999</td>\n",
       "      <td>39.360001</td>\n",
       "      <td>15.82</td>\n",
       "      <td>3.65125</td>\n",
       "      <td>237.250000</td>\n",
       "      <td>29.627834</td>\n",
       "    </tr>\n",
       "    <tr>\n",
       "      <th>2010-01-08</th>\n",
       "      <td>24.660000</td>\n",
       "      <td>13.33</td>\n",
       "      <td>53.900002</td>\n",
       "      <td>102.986664</td>\n",
       "      <td>37.779999</td>\n",
       "      <td>37.270000</td>\n",
       "      <td>76.120003</td>\n",
       "      <td>19.505550</td>\n",
       "      <td>61.599998</td>\n",
       "      <td>40.669998</td>\n",
       "      <td>...</td>\n",
       "      <td>16.920000</td>\n",
       "      <td>18.537500</td>\n",
       "      <td>17.709999</td>\n",
       "      <td>61.209999</td>\n",
       "      <td>18.254999</td>\n",
       "      <td>40.349998</td>\n",
       "      <td>15.77</td>\n",
       "      <td>3.64375</td>\n",
       "      <td>238.919998</td>\n",
       "      <td>29.534695</td>\n",
       "    </tr>\n",
       "  </tbody>\n",
       "</table>\n",
       "<p>5 rows × 430 columns</p>\n",
       "</div>"
      ],
      "text/plain": [
       "                 CSCO    UAL       TROW        ISRG       PRGO        TPR  \\\n",
       "Date                                                                        \n",
       "2010-01-04  24.690001  12.80  54.400002  102.923332  40.349998  36.310001   \n",
       "2010-01-05  24.580000  13.91  55.009998  102.459999  38.790001  36.750000   \n",
       "2010-01-06  24.420000  13.27  54.150002  103.946663  38.299999  37.470001   \n",
       "2010-01-07  24.530001  13.55  54.110001  103.556664  37.990002  37.490002   \n",
       "2010-01-08  24.660000  13.33  53.900002  102.986664  37.779999  37.270000   \n",
       "\n",
       "                  DVN        MRO         BA       VRTX  ...          M  \\\n",
       "Date                                                    ...              \n",
       "2010-01-04  76.570000  19.153616  56.180000  44.240002  ...  17.059999   \n",
       "2010-01-05  76.650002  19.171511  58.020000  42.779999  ...  16.860001   \n",
       "2010-01-06  76.419998  19.595024  59.779999  42.029999  ...  17.100000   \n",
       "2010-01-07  75.970001  19.475725  62.200001  41.500000  ...  17.490000   \n",
       "2010-01-08  76.120003  19.505550  61.599998  40.669998  ...  16.920000   \n",
       "\n",
       "                  CRM        PGR        WAT        BWA       LRCX    NWL  \\\n",
       "Date                                                                       \n",
       "2010-01-04  18.705000  18.030001  61.630001  16.889999  39.880001  15.20   \n",
       "2010-01-05  18.625000  17.969999  60.790001  17.695000  39.610001  15.11   \n",
       "2010-01-06  18.592501  17.790001  60.900002  18.344999  39.430000  15.38   \n",
       "2010-01-07  18.510000  17.549999  61.160000  18.594999  39.360001  15.82   \n",
       "2010-01-08  18.537500  17.709999  61.209999  18.254999  40.349998  15.77   \n",
       "\n",
       "                UAA         BLK        PPL  \n",
       "Date                                        \n",
       "2010-01-04  3.51000  238.580002  30.242558  \n",
       "2010-01-05  3.61500  239.610001  29.851370  \n",
       "2010-01-06  3.69500  234.669998  29.916569  \n",
       "2010-01-07  3.65125  237.250000  29.627834  \n",
       "2010-01-08  3.64375  238.919998  29.534695  \n",
       "\n",
       "[5 rows x 430 columns]"
      ]
     },
     "execution_count": 9,
     "metadata": {},
     "output_type": "execute_result"
    }
   ],
   "source": [
    "df.head()"
   ]
  },
  {
   "cell_type": "code",
   "execution_count": 10,
   "id": "bc96f9d2-f81d-4f59-aff6-ce55437e63d7",
   "metadata": {},
   "outputs": [
    {
     "data": {
      "text/plain": [
       "3011"
      ]
     },
     "execution_count": 10,
     "metadata": {},
     "output_type": "execute_result"
    }
   ],
   "source": [
    "df.isna().sum().sum()"
   ]
  },
  {
   "cell_type": "code",
   "execution_count": 12,
   "id": "b1c618b8-df6e-475a-8516-44d5eda70af9",
   "metadata": {},
   "outputs": [],
   "source": [
    "df.ffill(inplace=True)"
   ]
  },
  {
   "cell_type": "code",
   "execution_count": 13,
   "id": "fce33f09-d660-4b9a-9b45-846a169c2448",
   "metadata": {},
   "outputs": [
    {
     "data": {
      "text/plain": [
       "1"
      ]
     },
     "execution_count": 13,
     "metadata": {},
     "output_type": "execute_result"
    }
   ],
   "source": [
    "df.isna().sum().sum()"
   ]
  },
  {
   "cell_type": "code",
   "execution_count": 14,
   "id": "bd15a86a-d5cb-45b8-a2f5-5588878e6b79",
   "metadata": {},
   "outputs": [],
   "source": [
    "df.bfill(inplace=True)"
   ]
  },
  {
   "cell_type": "code",
   "execution_count": 15,
   "id": "9bfd3e14-4ad3-4d0a-bf93-a957ee36cfda",
   "metadata": {},
   "outputs": [
    {
     "data": {
      "text/plain": [
       "0"
      ]
     },
     "execution_count": 15,
     "metadata": {},
     "output_type": "execute_result"
    }
   ],
   "source": [
    "df.isna().sum().sum()"
   ]
  },
  {
   "cell_type": "markdown",
   "id": "b42c0035-79dd-4c8c-a505-2d99c98381df",
   "metadata": {},
   "source": [
    "### Ripasso di dataframe\n",
    "\n",
    "Quello che noi stiamo andando a fare è lavorare il dataframe dei prezzi e crearne uno nuovo dei ritorni"
   ]
  },
  {
   "cell_type": "code",
   "execution_count": 16,
   "id": "d2314252-8896-4d5c-b7f9-9b756fb34b54",
   "metadata": {},
   "outputs": [],
   "source": [
    "# Prendiamo tutte le date del dataframe. Probabilemnte non serve, ma lo facciamo comunque\n",
    "all_dates = df.index.unique().sort_values()"
   ]
  },
  {
   "cell_type": "code",
   "execution_count": 17,
   "id": "f028b5ce-58ba-4d00-a34e-83c9b43ab9fc",
   "metadata": {},
   "outputs": [
    {
     "data": {
      "text/plain": [
       "DatetimeIndex(['2010-01-04', '2010-01-05', '2010-01-06', '2010-01-07',\n",
       "               '2010-01-08', '2010-01-11', '2010-01-12', '2010-01-13',\n",
       "               '2010-01-14', '2010-01-15',\n",
       "               ...\n",
       "               '2018-12-17', '2018-12-18', '2018-12-19', '2018-12-20',\n",
       "               '2018-12-21', '2018-12-24', '2018-12-26', '2018-12-27',\n",
       "               '2018-12-28', '2018-12-31'],\n",
       "              dtype='datetime64[ns]', name='Date', length=2270, freq=None)"
      ]
     },
     "execution_count": 17,
     "metadata": {},
     "output_type": "execute_result"
    }
   ],
   "source": [
    "all_dates"
   ]
  },
  {
   "cell_type": "code",
   "execution_count": 19,
   "id": "0d3de561-e55f-4957-aa55-4404505d293e",
   "metadata": {},
   "outputs": [],
   "source": [
    "# Selezioniamo un sottoinsieme di date\n",
    "start = all_dates.get_loc('2014-01-02')\n",
    "end = all_dates.get_loc('2017-06-30')\n",
    "dates = all_dates[start:end+1]"
   ]
  },
  {
   "cell_type": "code",
   "execution_count": 32,
   "id": "4a4a7da9-7171-48dc-8dd8-15becb526501",
   "metadata": {},
   "outputs": [],
   "source": [
    "rets = np.c_[[np.log(df[name]).diff().iloc[1:] for name in df.columns]].T"
   ]
  },
  {
   "cell_type": "code",
   "execution_count": 35,
   "id": "62282be5-6e10-4a38-8320-74267124cac1",
   "metadata": {},
   "outputs": [],
   "source": [
    "returns = pd.DataFrame(data=rets, index=all_dates[1:], columns=df.columns)"
   ]
  },
  {
   "cell_type": "code",
   "execution_count": 37,
   "id": "09e3794e-5adf-49b6-aa7b-5eb9e0fd4120",
   "metadata": {},
   "outputs": [
    {
     "data": {
      "text/html": [
       "<div>\n",
       "<style scoped>\n",
       "    .dataframe tbody tr th:only-of-type {\n",
       "        vertical-align: middle;\n",
       "    }\n",
       "\n",
       "    .dataframe tbody tr th {\n",
       "        vertical-align: top;\n",
       "    }\n",
       "\n",
       "    .dataframe thead th {\n",
       "        text-align: right;\n",
       "    }\n",
       "</style>\n",
       "<table border=\"1\" class=\"dataframe\">\n",
       "  <thead>\n",
       "    <tr style=\"text-align: right;\">\n",
       "      <th></th>\n",
       "      <th>CSCO</th>\n",
       "      <th>UAL</th>\n",
       "      <th>TROW</th>\n",
       "      <th>ISRG</th>\n",
       "      <th>PRGO</th>\n",
       "      <th>TPR</th>\n",
       "      <th>DVN</th>\n",
       "      <th>MRO</th>\n",
       "      <th>BA</th>\n",
       "      <th>VRTX</th>\n",
       "      <th>...</th>\n",
       "      <th>M</th>\n",
       "      <th>CRM</th>\n",
       "      <th>PGR</th>\n",
       "      <th>WAT</th>\n",
       "      <th>BWA</th>\n",
       "      <th>LRCX</th>\n",
       "      <th>NWL</th>\n",
       "      <th>UAA</th>\n",
       "      <th>BLK</th>\n",
       "      <th>PPL</th>\n",
       "    </tr>\n",
       "    <tr>\n",
       "      <th>Date</th>\n",
       "      <th></th>\n",
       "      <th></th>\n",
       "      <th></th>\n",
       "      <th></th>\n",
       "      <th></th>\n",
       "      <th></th>\n",
       "      <th></th>\n",
       "      <th></th>\n",
       "      <th></th>\n",
       "      <th></th>\n",
       "      <th></th>\n",
       "      <th></th>\n",
       "      <th></th>\n",
       "      <th></th>\n",
       "      <th></th>\n",
       "      <th></th>\n",
       "      <th></th>\n",
       "      <th></th>\n",
       "      <th></th>\n",
       "      <th></th>\n",
       "      <th></th>\n",
       "    </tr>\n",
       "  </thead>\n",
       "  <tbody>\n",
       "    <tr>\n",
       "      <th>2010-01-05</th>\n",
       "      <td>-0.004465</td>\n",
       "      <td>0.083163</td>\n",
       "      <td>0.011151</td>\n",
       "      <td>-0.004512</td>\n",
       "      <td>-0.039429</td>\n",
       "      <td>0.012045</td>\n",
       "      <td>0.001044</td>\n",
       "      <td>0.000934</td>\n",
       "      <td>0.032227</td>\n",
       "      <td>-0.033559</td>\n",
       "      <td>...</td>\n",
       "      <td>-0.011793</td>\n",
       "      <td>-0.004286</td>\n",
       "      <td>-0.003333</td>\n",
       "      <td>-0.013723</td>\n",
       "      <td>0.046560</td>\n",
       "      <td>-0.006793</td>\n",
       "      <td>-0.005939</td>\n",
       "      <td>0.029476</td>\n",
       "      <td>0.004308</td>\n",
       "      <td>-0.013019</td>\n",
       "    </tr>\n",
       "    <tr>\n",
       "      <th>2010-01-06</th>\n",
       "      <td>-0.006531</td>\n",
       "      <td>-0.047102</td>\n",
       "      <td>-0.015757</td>\n",
       "      <td>0.014405</td>\n",
       "      <td>-0.012713</td>\n",
       "      <td>0.019402</td>\n",
       "      <td>-0.003005</td>\n",
       "      <td>0.021850</td>\n",
       "      <td>0.029883</td>\n",
       "      <td>-0.017687</td>\n",
       "      <td>...</td>\n",
       "      <td>0.014134</td>\n",
       "      <td>-0.001746</td>\n",
       "      <td>-0.010067</td>\n",
       "      <td>0.001808</td>\n",
       "      <td>0.036075</td>\n",
       "      <td>-0.004555</td>\n",
       "      <td>0.017711</td>\n",
       "      <td>0.021889</td>\n",
       "      <td>-0.020832</td>\n",
       "      <td>0.002182</td>\n",
       "    </tr>\n",
       "    <tr>\n",
       "      <th>2010-01-07</th>\n",
       "      <td>0.004494</td>\n",
       "      <td>0.020881</td>\n",
       "      <td>-0.000739</td>\n",
       "      <td>-0.003759</td>\n",
       "      <td>-0.008127</td>\n",
       "      <td>0.000534</td>\n",
       "      <td>-0.005906</td>\n",
       "      <td>-0.006107</td>\n",
       "      <td>0.039684</td>\n",
       "      <td>-0.012690</td>\n",
       "      <td>...</td>\n",
       "      <td>0.022551</td>\n",
       "      <td>-0.004447</td>\n",
       "      <td>-0.013583</td>\n",
       "      <td>0.004260</td>\n",
       "      <td>0.013536</td>\n",
       "      <td>-0.001777</td>\n",
       "      <td>0.028207</td>\n",
       "      <td>-0.011911</td>\n",
       "      <td>0.010934</td>\n",
       "      <td>-0.009698</td>\n",
       "    </tr>\n",
       "    <tr>\n",
       "      <th>2010-01-08</th>\n",
       "      <td>0.005286</td>\n",
       "      <td>-0.016369</td>\n",
       "      <td>-0.003889</td>\n",
       "      <td>-0.005519</td>\n",
       "      <td>-0.005543</td>\n",
       "      <td>-0.005886</td>\n",
       "      <td>0.001973</td>\n",
       "      <td>0.001530</td>\n",
       "      <td>-0.009693</td>\n",
       "      <td>-0.020203</td>\n",
       "      <td>...</td>\n",
       "      <td>-0.033133</td>\n",
       "      <td>0.001485</td>\n",
       "      <td>0.009075</td>\n",
       "      <td>0.000817</td>\n",
       "      <td>-0.018454</td>\n",
       "      <td>0.024841</td>\n",
       "      <td>-0.003166</td>\n",
       "      <td>-0.002056</td>\n",
       "      <td>0.007014</td>\n",
       "      <td>-0.003149</td>\n",
       "    </tr>\n",
       "    <tr>\n",
       "      <th>2010-01-11</th>\n",
       "      <td>-0.002843</td>\n",
       "      <td>-0.016642</td>\n",
       "      <td>0.007025</td>\n",
       "      <td>0.007513</td>\n",
       "      <td>0.043001</td>\n",
       "      <td>0.027783</td>\n",
       "      <td>-0.013757</td>\n",
       "      <td>0.000000</td>\n",
       "      <td>-0.011921</td>\n",
       "      <td>0.028123</td>\n",
       "      <td>...</td>\n",
       "      <td>-0.017890</td>\n",
       "      <td>-0.006766</td>\n",
       "      <td>-0.025738</td>\n",
       "      <td>0.019735</td>\n",
       "      <td>-0.001645</td>\n",
       "      <td>0.026414</td>\n",
       "      <td>-0.010838</td>\n",
       "      <td>-0.002060</td>\n",
       "      <td>0.016150</td>\n",
       "      <td>0.012847</td>\n",
       "    </tr>\n",
       "  </tbody>\n",
       "</table>\n",
       "<p>5 rows × 430 columns</p>\n",
       "</div>"
      ],
      "text/plain": [
       "                CSCO       UAL      TROW      ISRG      PRGO       TPR  \\\n",
       "Date                                                                     \n",
       "2010-01-05 -0.004465  0.083163  0.011151 -0.004512 -0.039429  0.012045   \n",
       "2010-01-06 -0.006531 -0.047102 -0.015757  0.014405 -0.012713  0.019402   \n",
       "2010-01-07  0.004494  0.020881 -0.000739 -0.003759 -0.008127  0.000534   \n",
       "2010-01-08  0.005286 -0.016369 -0.003889 -0.005519 -0.005543 -0.005886   \n",
       "2010-01-11 -0.002843 -0.016642  0.007025  0.007513  0.043001  0.027783   \n",
       "\n",
       "                 DVN       MRO        BA      VRTX  ...         M       CRM  \\\n",
       "Date                                                ...                       \n",
       "2010-01-05  0.001044  0.000934  0.032227 -0.033559  ... -0.011793 -0.004286   \n",
       "2010-01-06 -0.003005  0.021850  0.029883 -0.017687  ...  0.014134 -0.001746   \n",
       "2010-01-07 -0.005906 -0.006107  0.039684 -0.012690  ...  0.022551 -0.004447   \n",
       "2010-01-08  0.001973  0.001530 -0.009693 -0.020203  ... -0.033133  0.001485   \n",
       "2010-01-11 -0.013757  0.000000 -0.011921  0.028123  ... -0.017890 -0.006766   \n",
       "\n",
       "                 PGR       WAT       BWA      LRCX       NWL       UAA  \\\n",
       "Date                                                                     \n",
       "2010-01-05 -0.003333 -0.013723  0.046560 -0.006793 -0.005939  0.029476   \n",
       "2010-01-06 -0.010067  0.001808  0.036075 -0.004555  0.017711  0.021889   \n",
       "2010-01-07 -0.013583  0.004260  0.013536 -0.001777  0.028207 -0.011911   \n",
       "2010-01-08  0.009075  0.000817 -0.018454  0.024841 -0.003166 -0.002056   \n",
       "2010-01-11 -0.025738  0.019735 -0.001645  0.026414 -0.010838 -0.002060   \n",
       "\n",
       "                 BLK       PPL  \n",
       "Date                            \n",
       "2010-01-05  0.004308 -0.013019  \n",
       "2010-01-06 -0.020832  0.002182  \n",
       "2010-01-07  0.010934 -0.009698  \n",
       "2010-01-08  0.007014 -0.003149  \n",
       "2010-01-11  0.016150  0.012847  \n",
       "\n",
       "[5 rows x 430 columns]"
      ]
     },
     "execution_count": 37,
     "metadata": {},
     "output_type": "execute_result"
    }
   ],
   "source": [
    "returns.head()"
   ]
  },
  {
   "cell_type": "code",
   "execution_count": 39,
   "id": "9942a03d-169d-4868-959a-aa3641a8f961",
   "metadata": {},
   "outputs": [],
   "source": [
    "X = returns.to_numpy()"
   ]
  },
  {
   "cell_type": "markdown",
   "id": "2f9d5bc6-d3e0-46b3-b2c5-7ebacf92e40e",
   "metadata": {},
   "source": [
    "#### Commenti sullo Standard Scaler\n",
    "\n",
    "Lo Standard Scaler rende ogni colonna a media 0 e varianza 1\n",
    "\n",
    "Perchè lo facciamo? La PCA cerca la direzione della varianza più grande. Questo significa che non è \"invariante alla varianza\": se le feature non sono scalate, può succedere che alcune feature non importanti abbiano una varianza enorme a causa della scala dei valori, così che le feature importanti (con varianza piccola) vengano totalmente coperte.\n",
    "Esempio: abbiamo le house prices. Abbiamo il crime_rate che è compreso tra 0 e 1, e i prezzi delle case tra 100k e 200k. Immaginiamo che per la nostra analisi, la feature importante sia il crime_rate. Tuttavia, avendo i prezzi delle case un valore grande, la varianza risulta essere enorme, il che però non incide più sull'importanza dell'informazione"
   ]
  },
  {
   "cell_type": "code",
   "execution_count": 43,
   "id": "f9ba4b3f-b4dd-4e6b-a080-0106b9ce72c0",
   "metadata": {},
   "outputs": [],
   "source": [
    "scaler = StandardScaler()\n",
    "X = scaler.fit_transform(X)"
   ]
  },
  {
   "cell_type": "code",
   "execution_count": 44,
   "id": "42c9829f-2f48-4ee2-bea7-c3a43d4cc4a7",
   "metadata": {},
   "outputs": [
    {
     "data": {
      "text/plain": [
       "(2269, 430)"
      ]
     },
     "execution_count": 44,
     "metadata": {},
     "output_type": "execute_result"
    }
   ],
   "source": [
    "X.shape"
   ]
  },
  {
   "cell_type": "code",
   "execution_count": 47,
   "id": "7e5dff8b-a8a6-4d3b-ab5c-c03f1b891a5f",
   "metadata": {},
   "outputs": [],
   "source": [
    "model = PCA()\n",
    "Z = model.fit_transform(X)"
   ]
  },
  {
   "cell_type": "code",
   "execution_count": 51,
   "id": "7338b28b-2ec3-4214-8873-35909aead065",
   "metadata": {},
   "outputs": [
    {
     "data": {
      "text/plain": [
       "(2269, 430)"
      ]
     },
     "execution_count": 51,
     "metadata": {},
     "output_type": "execute_result"
    }
   ],
   "source": [
    "Z.shape"
   ]
  },
  {
   "cell_type": "markdown",
   "id": "191fd8d3-bb23-4943-8dc4-0c03ac554a9c",
   "metadata": {},
   "source": [
    "#### Commento plot\n",
    "\n",
    "Questo plot grafica le varianze delle varie componenti analizzate. Siccome quelle più importanti sono all'inizio, diventa semplice vedere quali siano anche selezionando le prime 10 solamente. Quella che plottiamo è la \"ratio\" delle varianze. La particolarità risiede nel fatto che la somma di questi ratio fa 1.\n",
    "\n",
    "Il plot mostra come il 35% dei dati sono spiegati semplicemente dalla prima componente. La seconda ne spiega un ulteriore 5%. Il resto è rumore, anche se occupa il 60% della spiegazione dei dati. Ce lo aspettiamo, dato che il mercato è principalmente rumore. Questo plot da molto senso alla teoria del portfolio e al CAPM: esiste solo un fattore (il mercato) che determina l'andamento dei prezzi. Dopo di che, il resto, è quasi tutto rumore."
   ]
  },
  {
   "cell_type": "code",
   "execution_count": 50,
   "id": "7d96b718-a4b6-41cf-98c2-70955a31f59c",
   "metadata": {},
   "outputs": [
    {
     "data": {
      "image/png": "[encoded data removed]",
      "text/plain": [
       "<Figure size 640x480 with 1 Axes>"
      ]
     },
     "metadata": {},
     "output_type": "display_data"
    }
   ],
   "source": [
    "plt.plot(model.explained_variance_ratio_[:10]);"
   ]
  },
  {
   "cell_type": "code",
   "execution_count": 53,
   "id": "2a2edc92-06f9-4d63-b440-c0b48bb5eb2c",
   "metadata": {},
   "outputs": [
    {
     "data": {
      "image/png": "[encoded data removed]",
      "text/plain": [
       "<Figure size 640x480 with 1 Axes>"
      ]
     },
     "metadata": {},
     "output_type": "display_data"
    }
   ],
   "source": [
    "# Questo plot è la somma cumulativa del rapporto di varianze\n",
    "cumulative_variance = np.cumsum(model.explained_variance_ratio_)\n",
    "plt.plot(cumulative_variance);"
   ]
  },
  {
   "cell_type": "markdown",
   "id": "69d12562-856f-4abc-9e7a-e38ce01b0db4",
   "metadata": {},
   "source": [
    "### Plot della prima PCA vs S&P\n",
    "\n",
    "Quello che facciamo adesso è confrontare la prima componente (quella più influente) con l'indice S&P\n",
    "\n",
    "ATTENZIONE: quando facciamo la PCA, può succedere una cosa: potremmo avere come autovalore k oppure -k. Essi sono equivalenti. Se notiamo che la componente è negativa, dobbiamo \"ribaltarla\""
   ]
  },
  {
   "cell_type": "code",
   "execution_count": 87,
   "id": "db8ee828-2235-4b5d-b8dd-b72636762017",
   "metadata": {},
   "outputs": [
    {
     "data": {
      "text/plain": [
       "[<matplotlib.lines.Line2D at 0x2732ccd7bc0>]"
      ]
     },
     "execution_count": 87,
     "metadata": {},
     "output_type": "execute_result"
    },
    {
     "data": {
      "image/png": "[encoded data removed]",
      "text/plain": [
       "<Figure size 640x480 with 1 Axes>"
      ]
     },
     "metadata": {},
     "output_type": "display_data"
    }
   ],
   "source": [
    "# plottiamo la prima componente\n",
    "plt.plot(Z[:,0])"
   ]
  },
  {
   "cell_type": "code",
   "execution_count": 88,
   "id": "889dc5de-7b5c-4297-8cfe-5326382a3910",
   "metadata": {},
   "outputs": [],
   "source": [
    "z_df = pd.DataFrame(index = returns.index, data = Z[:,0], columns=[\"PC1\"])"
   ]
  },
  {
   "cell_type": "code",
   "execution_count": 89,
   "id": "756202ff-4d01-4ec5-9903-213d0e36df0f",
   "metadata": {},
   "outputs": [
    {
     "data": {
      "text/html": [
       "<div>\n",
       "<style scoped>\n",
       "    .dataframe tbody tr th:only-of-type {\n",
       "        vertical-align: middle;\n",
       "    }\n",
       "\n",
       "    .dataframe tbody tr th {\n",
       "        vertical-align: top;\n",
       "    }\n",
       "\n",
       "    .dataframe thead th {\n",
       "        text-align: right;\n",
       "    }\n",
       "</style>\n",
       "<table border=\"1\" class=\"dataframe\">\n",
       "  <thead>\n",
       "    <tr style=\"text-align: right;\">\n",
       "      <th></th>\n",
       "      <th>PC1</th>\n",
       "    </tr>\n",
       "    <tr>\n",
       "      <th>Date</th>\n",
       "      <th></th>\n",
       "    </tr>\n",
       "  </thead>\n",
       "  <tbody>\n",
       "    <tr>\n",
       "      <th>2010-01-05</th>\n",
       "      <td>3.082268</td>\n",
       "    </tr>\n",
       "    <tr>\n",
       "      <th>2010-01-06</th>\n",
       "      <td>1.658736</td>\n",
       "    </tr>\n",
       "    <tr>\n",
       "      <th>2010-01-07</th>\n",
       "      <td>7.838046</td>\n",
       "    </tr>\n",
       "    <tr>\n",
       "      <th>2010-01-08</th>\n",
       "      <td>3.300012</td>\n",
       "    </tr>\n",
       "    <tr>\n",
       "      <th>2010-01-11</th>\n",
       "      <td>3.664966</td>\n",
       "    </tr>\n",
       "  </tbody>\n",
       "</table>\n",
       "</div>"
      ],
      "text/plain": [
       "                 PC1\n",
       "Date                \n",
       "2010-01-05  3.082268\n",
       "2010-01-06  1.658736\n",
       "2010-01-07  7.838046\n",
       "2010-01-08  3.300012\n",
       "2010-01-11  3.664966"
      ]
     },
     "execution_count": 89,
     "metadata": {},
     "output_type": "execute_result"
    }
   ],
   "source": [
    "z_df.head()"
   ]
  },
  {
   "cell_type": "code",
   "execution_count": 90,
   "id": "dfee209a-8736-4e8c-8480-5ac0cf9578d2",
   "metadata": {},
   "outputs": [],
   "source": [
    "spy = pd.read_csv(\"SPY.csv\", index_col=\"Date\", parse_dates=True)"
   ]
  },
  {
   "cell_type": "code",
   "execution_count": 91,
   "id": "07c33d50-f36f-45a3-b52b-8007941476e0",
   "metadata": {},
   "outputs": [],
   "source": [
    "spy_returns = np.log(spy[\"Close\"]).diff().dropna()"
   ]
  },
  {
   "cell_type": "code",
   "execution_count": 92,
   "id": "8cb9b382-b16d-4768-92f3-a8c2e35b7618",
   "metadata": {},
   "outputs": [
    {
     "data": {
      "text/plain": [
       "<Axes: xlabel='Date'>"
      ]
     },
     "execution_count": 92,
     "metadata": {},
     "output_type": "execute_result"
    },
    {
     "data": {
      "image/png": "[encoded data removed]",
      "text/plain": [
       "<Figure size 640x480 with 1 Axes>"
      ]
     },
     "metadata": {},
     "output_type": "display_data"
    }
   ],
   "source": [
    "spy_returns.plot()"
   ]
  },
  {
   "cell_type": "code",
   "execution_count": 93,
   "id": "c94040e1-c93c-4351-ab61-368ccc342b79",
   "metadata": {},
   "outputs": [],
   "source": [
    "joined = z_df.join(spy_returns)\n",
    "joined.columns = [\"PC1\", \"SPY\"]"
   ]
  },
  {
   "cell_type": "code",
   "execution_count": 94,
   "id": "0af8c716-82cb-4b3a-928e-54a4b1601152",
   "metadata": {},
   "outputs": [
    {
     "data": {
      "text/html": [
       "<div>\n",
       "<style scoped>\n",
       "    .dataframe tbody tr th:only-of-type {\n",
       "        vertical-align: middle;\n",
       "    }\n",
       "\n",
       "    .dataframe tbody tr th {\n",
       "        vertical-align: top;\n",
       "    }\n",
       "\n",
       "    .dataframe thead th {\n",
       "        text-align: right;\n",
       "    }\n",
       "</style>\n",
       "<table border=\"1\" class=\"dataframe\">\n",
       "  <thead>\n",
       "    <tr style=\"text-align: right;\">\n",
       "      <th></th>\n",
       "      <th>PC1</th>\n",
       "      <th>SPY</th>\n",
       "    </tr>\n",
       "    <tr>\n",
       "      <th>Date</th>\n",
       "      <th></th>\n",
       "      <th></th>\n",
       "    </tr>\n",
       "  </thead>\n",
       "  <tbody>\n",
       "    <tr>\n",
       "      <th>2010-01-05</th>\n",
       "      <td>3.082268</td>\n",
       "      <td>0.002644</td>\n",
       "    </tr>\n",
       "    <tr>\n",
       "      <th>2010-01-06</th>\n",
       "      <td>1.658736</td>\n",
       "      <td>0.000704</td>\n",
       "    </tr>\n",
       "    <tr>\n",
       "      <th>2010-01-07</th>\n",
       "      <td>7.838046</td>\n",
       "      <td>0.004212</td>\n",
       "    </tr>\n",
       "    <tr>\n",
       "      <th>2010-01-08</th>\n",
       "      <td>3.300012</td>\n",
       "      <td>0.003322</td>\n",
       "    </tr>\n",
       "    <tr>\n",
       "      <th>2010-01-11</th>\n",
       "      <td>3.664966</td>\n",
       "      <td>0.001396</td>\n",
       "    </tr>\n",
       "  </tbody>\n",
       "</table>\n",
       "</div>"
      ],
      "text/plain": [
       "                 PC1       SPY\n",
       "Date                          \n",
       "2010-01-05  3.082268  0.002644\n",
       "2010-01-06  1.658736  0.000704\n",
       "2010-01-07  7.838046  0.004212\n",
       "2010-01-08  3.300012  0.003322\n",
       "2010-01-11  3.664966  0.001396"
      ]
     },
     "execution_count": 94,
     "metadata": {},
     "output_type": "execute_result"
    }
   ],
   "source": [
    "joined.head()"
   ]
  },
  {
   "cell_type": "code",
   "execution_count": 95,
   "id": "f0917ebf-f91b-4e79-bdae-6f240fa1be49",
   "metadata": {},
   "outputs": [],
   "source": [
    "scaler2 = StandardScaler()\n",
    "joined[joined.columns] = scaler2.fit_transform(joined)"
   ]
  },
  {
   "cell_type": "code",
   "execution_count": 102,
   "id": "a276c2fa-62e4-402b-8585-ccda4faf44d1",
   "metadata": {},
   "outputs": [
    {
     "data": {
      "text/plain": [
       "<Axes: xlabel='Date'>"
      ]
     },
     "execution_count": 102,
     "metadata": {},
     "output_type": "execute_result"
    },
    {
     "data": {
      "image/png": "[encoded data removed]",
      "text/plain": [
       "<Figure size 1000x500 with 1 Axes>"
      ]
     },
     "metadata": {},
     "output_type": "display_data"
    }
   ],
   "source": [
    "# La prima componente principale matcha totalmente S&P. Ha senso, dato che abbiamo preso proprio gli stocks di S&P\n",
    "# La prima componente è proprio il mercato, infatti lo matcha bene.\n",
    "joined.plot(figsize=(10, 5), alpha=0.7)"
   ]
  },
  {
   "cell_type": "code",
   "execution_count": null,
   "id": "81f8d7ae-f112-4033-828b-96294f198d62",
   "metadata": {},
   "outputs": [],
   "source": []
  }
 ],
 "metadata": {
  "kernelspec": {
   "display_name": "Python 3 (ipykernel)",
   "language": "python",
   "name": "python3"
  },
  "language_info": {
   "codemirror_mode": {
    "name": "ipython",
    "version": 3
   },
   "file_extension": ".py",
   "mimetype": "text/x-python",
   "name": "python",
   "nbconvert_exporter": "python",
   "pygments_lexer": "ipython3",
   "version": "3.12.5"
  }
 },
 "nbformat": 4,
 "nbformat_minor": 5
}
