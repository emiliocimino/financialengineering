{
 "cells": [
  {
   "cell_type": "code",
   "execution_count": 1,
   "id": "0d618447-fb94-4171-b088-b019a6744259",
   "metadata": {},
   "outputs": [],
   "source": [
    "import numpy as np\n",
    "import pandas as pd\n",
    "import matplotlib.pyplot as plt"
   ]
  },
  {
   "cell_type": "markdown",
   "id": "2fb3f055-16ca-4c0f-b3f5-a6122a9f6d7b",
   "metadata": {},
   "source": [
    "## Pre Processing"
   ]
  },
  {
   "cell_type": "code",
   "execution_count": 2,
   "id": "b30d6e4f-18f5-4a48-854b-47533879d84b",
   "metadata": {},
   "outputs": [
    {
     "data": {
      "text/html": [
       "<div>\n",
       "<style scoped>\n",
       "    .dataframe tbody tr th:only-of-type {\n",
       "        vertical-align: middle;\n",
       "    }\n",
       "\n",
       "    .dataframe tbody tr th {\n",
       "        vertical-align: top;\n",
       "    }\n",
       "\n",
       "    .dataframe thead th {\n",
       "        text-align: right;\n",
       "    }\n",
       "</style>\n",
       "<table border=\"1\" class=\"dataframe\">\n",
       "  <thead>\n",
       "    <tr style=\"text-align: right;\">\n",
       "      <th></th>\n",
       "      <th>CSCO</th>\n",
       "      <th>UAL</th>\n",
       "      <th>TROW</th>\n",
       "      <th>ISRG</th>\n",
       "      <th>PRGO</th>\n",
       "      <th>TPR</th>\n",
       "      <th>DVN</th>\n",
       "      <th>MRO</th>\n",
       "      <th>BA</th>\n",
       "      <th>VRTX</th>\n",
       "      <th>...</th>\n",
       "      <th>M</th>\n",
       "      <th>CRM</th>\n",
       "      <th>PGR</th>\n",
       "      <th>WAT</th>\n",
       "      <th>BWA</th>\n",
       "      <th>LRCX</th>\n",
       "      <th>NWL</th>\n",
       "      <th>UAA</th>\n",
       "      <th>BLK</th>\n",
       "      <th>PPL</th>\n",
       "    </tr>\n",
       "    <tr>\n",
       "      <th>Date</th>\n",
       "      <th></th>\n",
       "      <th></th>\n",
       "      <th></th>\n",
       "      <th></th>\n",
       "      <th></th>\n",
       "      <th></th>\n",
       "      <th></th>\n",
       "      <th></th>\n",
       "      <th></th>\n",
       "      <th></th>\n",
       "      <th></th>\n",
       "      <th></th>\n",
       "      <th></th>\n",
       "      <th></th>\n",
       "      <th></th>\n",
       "      <th></th>\n",
       "      <th></th>\n",
       "      <th></th>\n",
       "      <th></th>\n",
       "      <th></th>\n",
       "      <th></th>\n",
       "    </tr>\n",
       "  </thead>\n",
       "  <tbody>\n",
       "    <tr>\n",
       "      <th>2010-01-04</th>\n",
       "      <td>24.690001</td>\n",
       "      <td>12.80</td>\n",
       "      <td>54.400002</td>\n",
       "      <td>102.923332</td>\n",
       "      <td>40.349998</td>\n",
       "      <td>36.310001</td>\n",
       "      <td>76.570000</td>\n",
       "      <td>19.153616</td>\n",
       "      <td>56.180000</td>\n",
       "      <td>44.240002</td>\n",
       "      <td>...</td>\n",
       "      <td>17.059999</td>\n",
       "      <td>18.705000</td>\n",
       "      <td>18.030001</td>\n",
       "      <td>61.630001</td>\n",
       "      <td>16.889999</td>\n",
       "      <td>39.880001</td>\n",
       "      <td>15.20</td>\n",
       "      <td>3.51000</td>\n",
       "      <td>238.580002</td>\n",
       "      <td>30.242558</td>\n",
       "    </tr>\n",
       "    <tr>\n",
       "      <th>2010-01-05</th>\n",
       "      <td>24.580000</td>\n",
       "      <td>13.91</td>\n",
       "      <td>55.009998</td>\n",
       "      <td>102.459999</td>\n",
       "      <td>38.790001</td>\n",
       "      <td>36.750000</td>\n",
       "      <td>76.650002</td>\n",
       "      <td>19.171511</td>\n",
       "      <td>58.020000</td>\n",
       "      <td>42.779999</td>\n",
       "      <td>...</td>\n",
       "      <td>16.860001</td>\n",
       "      <td>18.625000</td>\n",
       "      <td>17.969999</td>\n",
       "      <td>60.790001</td>\n",
       "      <td>17.695000</td>\n",
       "      <td>39.610001</td>\n",
       "      <td>15.11</td>\n",
       "      <td>3.61500</td>\n",
       "      <td>239.610001</td>\n",
       "      <td>29.851370</td>\n",
       "    </tr>\n",
       "    <tr>\n",
       "      <th>2010-01-06</th>\n",
       "      <td>24.420000</td>\n",
       "      <td>13.27</td>\n",
       "      <td>54.150002</td>\n",
       "      <td>103.946663</td>\n",
       "      <td>38.299999</td>\n",
       "      <td>37.470001</td>\n",
       "      <td>76.419998</td>\n",
       "      <td>19.595024</td>\n",
       "      <td>59.779999</td>\n",
       "      <td>42.029999</td>\n",
       "      <td>...</td>\n",
       "      <td>17.100000</td>\n",
       "      <td>18.592501</td>\n",
       "      <td>17.790001</td>\n",
       "      <td>60.900002</td>\n",
       "      <td>18.344999</td>\n",
       "      <td>39.430000</td>\n",
       "      <td>15.38</td>\n",
       "      <td>3.69500</td>\n",
       "      <td>234.669998</td>\n",
       "      <td>29.916569</td>\n",
       "    </tr>\n",
       "    <tr>\n",
       "      <th>2010-01-07</th>\n",
       "      <td>24.530001</td>\n",
       "      <td>13.55</td>\n",
       "      <td>54.110001</td>\n",
       "      <td>103.556664</td>\n",
       "      <td>37.990002</td>\n",
       "      <td>37.490002</td>\n",
       "      <td>75.970001</td>\n",
       "      <td>19.475725</td>\n",
       "      <td>62.200001</td>\n",
       "      <td>41.500000</td>\n",
       "      <td>...</td>\n",
       "      <td>17.490000</td>\n",
       "      <td>18.510000</td>\n",
       "      <td>17.549999</td>\n",
       "      <td>61.160000</td>\n",
       "      <td>18.594999</td>\n",
       "      <td>39.360001</td>\n",
       "      <td>15.82</td>\n",
       "      <td>3.65125</td>\n",
       "      <td>237.250000</td>\n",
       "      <td>29.627834</td>\n",
       "    </tr>\n",
       "    <tr>\n",
       "      <th>2010-01-08</th>\n",
       "      <td>24.660000</td>\n",
       "      <td>13.33</td>\n",
       "      <td>53.900002</td>\n",
       "      <td>102.986664</td>\n",
       "      <td>37.779999</td>\n",
       "      <td>37.270000</td>\n",
       "      <td>76.120003</td>\n",
       "      <td>19.505550</td>\n",
       "      <td>61.599998</td>\n",
       "      <td>40.669998</td>\n",
       "      <td>...</td>\n",
       "      <td>16.920000</td>\n",
       "      <td>18.537500</td>\n",
       "      <td>17.709999</td>\n",
       "      <td>61.209999</td>\n",
       "      <td>18.254999</td>\n",
       "      <td>40.349998</td>\n",
       "      <td>15.77</td>\n",
       "      <td>3.64375</td>\n",
       "      <td>238.919998</td>\n",
       "      <td>29.534695</td>\n",
       "    </tr>\n",
       "  </tbody>\n",
       "</table>\n",
       "<p>5 rows × 480 columns</p>\n",
       "</div>"
      ],
      "text/plain": [
       "                 CSCO    UAL       TROW        ISRG       PRGO        TPR  \\\n",
       "Date                                                                        \n",
       "2010-01-04  24.690001  12.80  54.400002  102.923332  40.349998  36.310001   \n",
       "2010-01-05  24.580000  13.91  55.009998  102.459999  38.790001  36.750000   \n",
       "2010-01-06  24.420000  13.27  54.150002  103.946663  38.299999  37.470001   \n",
       "2010-01-07  24.530001  13.55  54.110001  103.556664  37.990002  37.490002   \n",
       "2010-01-08  24.660000  13.33  53.900002  102.986664  37.779999  37.270000   \n",
       "\n",
       "                  DVN        MRO         BA       VRTX  ...          M  \\\n",
       "Date                                                    ...              \n",
       "2010-01-04  76.570000  19.153616  56.180000  44.240002  ...  17.059999   \n",
       "2010-01-05  76.650002  19.171511  58.020000  42.779999  ...  16.860001   \n",
       "2010-01-06  76.419998  19.595024  59.779999  42.029999  ...  17.100000   \n",
       "2010-01-07  75.970001  19.475725  62.200001  41.500000  ...  17.490000   \n",
       "2010-01-08  76.120003  19.505550  61.599998  40.669998  ...  16.920000   \n",
       "\n",
       "                  CRM        PGR        WAT        BWA       LRCX    NWL  \\\n",
       "Date                                                                       \n",
       "2010-01-04  18.705000  18.030001  61.630001  16.889999  39.880001  15.20   \n",
       "2010-01-05  18.625000  17.969999  60.790001  17.695000  39.610001  15.11   \n",
       "2010-01-06  18.592501  17.790001  60.900002  18.344999  39.430000  15.38   \n",
       "2010-01-07  18.510000  17.549999  61.160000  18.594999  39.360001  15.82   \n",
       "2010-01-08  18.537500  17.709999  61.209999  18.254999  40.349998  15.77   \n",
       "\n",
       "                UAA         BLK        PPL  \n",
       "Date                                        \n",
       "2010-01-04  3.51000  238.580002  30.242558  \n",
       "2010-01-05  3.61500  239.610001  29.851370  \n",
       "2010-01-06  3.69500  234.669998  29.916569  \n",
       "2010-01-07  3.65125  237.250000  29.627834  \n",
       "2010-01-08  3.64375  238.919998  29.534695  \n",
       "\n",
       "[5 rows x 480 columns]"
      ]
     },
     "execution_count": 2,
     "metadata": {},
     "output_type": "execute_result"
    }
   ],
   "source": [
    "# Il file ha già i prezzi Close Adjusted di alcuni stocks\n",
    "df = pd.read_csv(\"sp500_closefull.csv\", parse_dates=True, index_col=\"Date\")\n",
    "df.head()"
   ]
  },
  {
   "cell_type": "code",
   "execution_count": 3,
   "id": "c24a9fe6-a195-4f61-8902-e8d92d846a81",
   "metadata": {},
   "outputs": [],
   "source": [
    "# Droppiamo sulle righe laddove TUTTI non abbiano valori (giorni di chiusura di mercato)\n",
    "df.dropna(axis=0, how=\"all\", inplace=True)"
   ]
  },
  {
   "cell_type": "code",
   "execution_count": 4,
   "id": "9e305346-f819-4bc4-8566-1c5b65be688b",
   "metadata": {},
   "outputs": [
    {
     "data": {
      "text/plain": [
       "(2263, 480)"
      ]
     },
     "execution_count": 4,
     "metadata": {},
     "output_type": "execute_result"
    }
   ],
   "source": [
    "df.shape"
   ]
  },
  {
   "cell_type": "code",
   "execution_count": 5,
   "id": "18db2d31-deb0-4b3b-b445-41edb724b1ab",
   "metadata": {},
   "outputs": [
    {
     "data": {
      "text/plain": [
       "43094"
      ]
     },
     "execution_count": 5,
     "metadata": {},
     "output_type": "execute_result"
    }
   ],
   "source": [
    "# Ci sono ancora dei NaNs\n",
    "df.isna().sum().sum()"
   ]
  },
  {
   "cell_type": "code",
   "execution_count": 6,
   "id": "89b2877f-7264-454b-a2be-6d655dea6da5",
   "metadata": {},
   "outputs": [],
   "source": [
    "# Droppiamo quelle azioni che hanno dei buchi for reason. In questo modo non ci importa di fare del filling\n",
    "df.dropna(axis=1, how=\"any\", inplace=True)"
   ]
  },
  {
   "cell_type": "code",
   "execution_count": 7,
   "id": "79e9006e-69d5-4a49-9da1-bc5ad7645911",
   "metadata": {},
   "outputs": [
    {
     "data": {
      "text/plain": [
       "(0, (2263, 429))"
      ]
     },
     "execution_count": 7,
     "metadata": {},
     "output_type": "execute_result"
    }
   ],
   "source": [
    "# Apposto, abbiamo perso una cinquantina di azioni, ma chissene\n",
    "df.isna().sum().sum(), df.shape"
   ]
  },
  {
   "cell_type": "code",
   "execution_count": 8,
   "id": "2e9f6e8d-b635-4316-8cf7-9de734172a00",
   "metadata": {},
   "outputs": [],
   "source": [
    "%%capture\n",
    "# Creiamo dataframe dei returns:\n",
    "df_returns = pd.DataFrame()\n",
    "for col in df.columns:\n",
    "    df_returns[col] = np.log(df[col]).diff()"
   ]
  },
  {
   "cell_type": "code",
   "execution_count": 9,
   "id": "43cbc184-4ff4-4f6f-a20b-d0a2349af44d",
   "metadata": {},
   "outputs": [
    {
     "data": {
      "text/html": [
       "<div>\n",
       "<style scoped>\n",
       "    .dataframe tbody tr th:only-of-type {\n",
       "        vertical-align: middle;\n",
       "    }\n",
       "\n",
       "    .dataframe tbody tr th {\n",
       "        vertical-align: top;\n",
       "    }\n",
       "\n",
       "    .dataframe thead th {\n",
       "        text-align: right;\n",
       "    }\n",
       "</style>\n",
       "<table border=\"1\" class=\"dataframe\">\n",
       "  <thead>\n",
       "    <tr style=\"text-align: right;\">\n",
       "      <th></th>\n",
       "      <th>CSCO</th>\n",
       "      <th>UAL</th>\n",
       "      <th>TROW</th>\n",
       "      <th>ISRG</th>\n",
       "      <th>PRGO</th>\n",
       "      <th>TPR</th>\n",
       "      <th>DVN</th>\n",
       "      <th>MRO</th>\n",
       "      <th>BA</th>\n",
       "      <th>VRTX</th>\n",
       "      <th>...</th>\n",
       "      <th>M</th>\n",
       "      <th>CRM</th>\n",
       "      <th>PGR</th>\n",
       "      <th>WAT</th>\n",
       "      <th>BWA</th>\n",
       "      <th>LRCX</th>\n",
       "      <th>NWL</th>\n",
       "      <th>UAA</th>\n",
       "      <th>BLK</th>\n",
       "      <th>PPL</th>\n",
       "    </tr>\n",
       "    <tr>\n",
       "      <th>Date</th>\n",
       "      <th></th>\n",
       "      <th></th>\n",
       "      <th></th>\n",
       "      <th></th>\n",
       "      <th></th>\n",
       "      <th></th>\n",
       "      <th></th>\n",
       "      <th></th>\n",
       "      <th></th>\n",
       "      <th></th>\n",
       "      <th></th>\n",
       "      <th></th>\n",
       "      <th></th>\n",
       "      <th></th>\n",
       "      <th></th>\n",
       "      <th></th>\n",
       "      <th></th>\n",
       "      <th></th>\n",
       "      <th></th>\n",
       "      <th></th>\n",
       "      <th></th>\n",
       "    </tr>\n",
       "  </thead>\n",
       "  <tbody>\n",
       "    <tr>\n",
       "      <th>2010-01-04</th>\n",
       "      <td>NaN</td>\n",
       "      <td>NaN</td>\n",
       "      <td>NaN</td>\n",
       "      <td>NaN</td>\n",
       "      <td>NaN</td>\n",
       "      <td>NaN</td>\n",
       "      <td>NaN</td>\n",
       "      <td>NaN</td>\n",
       "      <td>NaN</td>\n",
       "      <td>NaN</td>\n",
       "      <td>...</td>\n",
       "      <td>NaN</td>\n",
       "      <td>NaN</td>\n",
       "      <td>NaN</td>\n",
       "      <td>NaN</td>\n",
       "      <td>NaN</td>\n",
       "      <td>NaN</td>\n",
       "      <td>NaN</td>\n",
       "      <td>NaN</td>\n",
       "      <td>NaN</td>\n",
       "      <td>NaN</td>\n",
       "    </tr>\n",
       "    <tr>\n",
       "      <th>2010-01-05</th>\n",
       "      <td>-0.004465</td>\n",
       "      <td>0.083163</td>\n",
       "      <td>0.011151</td>\n",
       "      <td>-0.004512</td>\n",
       "      <td>-0.039429</td>\n",
       "      <td>0.012045</td>\n",
       "      <td>0.001044</td>\n",
       "      <td>0.000934</td>\n",
       "      <td>0.032227</td>\n",
       "      <td>-0.033559</td>\n",
       "      <td>...</td>\n",
       "      <td>-0.011793</td>\n",
       "      <td>-0.004286</td>\n",
       "      <td>-0.003333</td>\n",
       "      <td>-0.013723</td>\n",
       "      <td>0.046560</td>\n",
       "      <td>-0.006793</td>\n",
       "      <td>-0.005939</td>\n",
       "      <td>0.029476</td>\n",
       "      <td>0.004308</td>\n",
       "      <td>-0.013019</td>\n",
       "    </tr>\n",
       "    <tr>\n",
       "      <th>2010-01-06</th>\n",
       "      <td>-0.006531</td>\n",
       "      <td>-0.047102</td>\n",
       "      <td>-0.015757</td>\n",
       "      <td>0.014405</td>\n",
       "      <td>-0.012713</td>\n",
       "      <td>0.019402</td>\n",
       "      <td>-0.003005</td>\n",
       "      <td>0.021850</td>\n",
       "      <td>0.029883</td>\n",
       "      <td>-0.017687</td>\n",
       "      <td>...</td>\n",
       "      <td>0.014134</td>\n",
       "      <td>-0.001746</td>\n",
       "      <td>-0.010067</td>\n",
       "      <td>0.001808</td>\n",
       "      <td>0.036075</td>\n",
       "      <td>-0.004555</td>\n",
       "      <td>0.017711</td>\n",
       "      <td>0.021889</td>\n",
       "      <td>-0.020832</td>\n",
       "      <td>0.002182</td>\n",
       "    </tr>\n",
       "    <tr>\n",
       "      <th>2010-01-07</th>\n",
       "      <td>0.004494</td>\n",
       "      <td>0.020881</td>\n",
       "      <td>-0.000739</td>\n",
       "      <td>-0.003759</td>\n",
       "      <td>-0.008127</td>\n",
       "      <td>0.000534</td>\n",
       "      <td>-0.005906</td>\n",
       "      <td>-0.006107</td>\n",
       "      <td>0.039684</td>\n",
       "      <td>-0.012690</td>\n",
       "      <td>...</td>\n",
       "      <td>0.022551</td>\n",
       "      <td>-0.004447</td>\n",
       "      <td>-0.013583</td>\n",
       "      <td>0.004260</td>\n",
       "      <td>0.013536</td>\n",
       "      <td>-0.001777</td>\n",
       "      <td>0.028207</td>\n",
       "      <td>-0.011911</td>\n",
       "      <td>0.010934</td>\n",
       "      <td>-0.009698</td>\n",
       "    </tr>\n",
       "    <tr>\n",
       "      <th>2010-01-08</th>\n",
       "      <td>0.005286</td>\n",
       "      <td>-0.016369</td>\n",
       "      <td>-0.003889</td>\n",
       "      <td>-0.005519</td>\n",
       "      <td>-0.005543</td>\n",
       "      <td>-0.005886</td>\n",
       "      <td>0.001973</td>\n",
       "      <td>0.001530</td>\n",
       "      <td>-0.009693</td>\n",
       "      <td>-0.020203</td>\n",
       "      <td>...</td>\n",
       "      <td>-0.033133</td>\n",
       "      <td>0.001485</td>\n",
       "      <td>0.009075</td>\n",
       "      <td>0.000817</td>\n",
       "      <td>-0.018454</td>\n",
       "      <td>0.024841</td>\n",
       "      <td>-0.003166</td>\n",
       "      <td>-0.002056</td>\n",
       "      <td>0.007014</td>\n",
       "      <td>-0.003149</td>\n",
       "    </tr>\n",
       "  </tbody>\n",
       "</table>\n",
       "<p>5 rows × 429 columns</p>\n",
       "</div>"
      ],
      "text/plain": [
       "                CSCO       UAL      TROW      ISRG      PRGO       TPR  \\\n",
       "Date                                                                     \n",
       "2010-01-04       NaN       NaN       NaN       NaN       NaN       NaN   \n",
       "2010-01-05 -0.004465  0.083163  0.011151 -0.004512 -0.039429  0.012045   \n",
       "2010-01-06 -0.006531 -0.047102 -0.015757  0.014405 -0.012713  0.019402   \n",
       "2010-01-07  0.004494  0.020881 -0.000739 -0.003759 -0.008127  0.000534   \n",
       "2010-01-08  0.005286 -0.016369 -0.003889 -0.005519 -0.005543 -0.005886   \n",
       "\n",
       "                 DVN       MRO        BA      VRTX  ...         M       CRM  \\\n",
       "Date                                                ...                       \n",
       "2010-01-04       NaN       NaN       NaN       NaN  ...       NaN       NaN   \n",
       "2010-01-05  0.001044  0.000934  0.032227 -0.033559  ... -0.011793 -0.004286   \n",
       "2010-01-06 -0.003005  0.021850  0.029883 -0.017687  ...  0.014134 -0.001746   \n",
       "2010-01-07 -0.005906 -0.006107  0.039684 -0.012690  ...  0.022551 -0.004447   \n",
       "2010-01-08  0.001973  0.001530 -0.009693 -0.020203  ... -0.033133  0.001485   \n",
       "\n",
       "                 PGR       WAT       BWA      LRCX       NWL       UAA  \\\n",
       "Date                                                                     \n",
       "2010-01-04       NaN       NaN       NaN       NaN       NaN       NaN   \n",
       "2010-01-05 -0.003333 -0.013723  0.046560 -0.006793 -0.005939  0.029476   \n",
       "2010-01-06 -0.010067  0.001808  0.036075 -0.004555  0.017711  0.021889   \n",
       "2010-01-07 -0.013583  0.004260  0.013536 -0.001777  0.028207 -0.011911   \n",
       "2010-01-08  0.009075  0.000817 -0.018454  0.024841 -0.003166 -0.002056   \n",
       "\n",
       "                 BLK       PPL  \n",
       "Date                            \n",
       "2010-01-04       NaN       NaN  \n",
       "2010-01-05  0.004308 -0.013019  \n",
       "2010-01-06 -0.020832  0.002182  \n",
       "2010-01-07  0.010934 -0.009698  \n",
       "2010-01-08  0.007014 -0.003149  \n",
       "\n",
       "[5 rows x 429 columns]"
      ]
     },
     "execution_count": 9,
     "metadata": {},
     "output_type": "execute_result"
    }
   ],
   "source": [
    "df_returns.head()"
   ]
  },
  {
   "cell_type": "code",
   "execution_count": 10,
   "id": "4f46b5f0-e825-4642-b59e-3ac096c94d91",
   "metadata": {},
   "outputs": [
    {
     "data": {
      "text/plain": [
       "Date\n",
       "2018-12-21   -0.026778\n",
       "2018-12-24    0.049290\n",
       "2018-12-26    0.007648\n",
       "2018-12-27   -0.001291\n",
       "2018-12-28         NaN\n",
       "Name: SPY, dtype: float64"
      ]
     },
     "execution_count": 10,
     "metadata": {},
     "output_type": "execute_result"
    }
   ],
   "source": [
    "# Shiftiamo i return di SPY\n",
    "df_returns[\"SPY\"] = df_returns[\"SPY\"].shift(-1)\n",
    "df_returns[\"SPY\"].tail()"
   ]
  },
  {
   "cell_type": "code",
   "execution_count": 11,
   "id": "d8062d7c-529b-49e5-9691-a6f1e0652f96",
   "metadata": {},
   "outputs": [],
   "source": [
    "# Prendiamo Train e test set, eliminando prima e ultima riga\n",
    "N_test = 1000\n",
    "train = df_returns.iloc[1:-N_test]\n",
    "test = df_returns.iloc[-N_test:-1]"
   ]
  },
  {
   "cell_type": "code",
   "execution_count": 12,
   "id": "760db216-a5fb-449a-9387-afb2c0297dc5",
   "metadata": {},
   "outputs": [
    {
     "data": {
      "text/plain": [
       "Index(['CSCO', 'UAL', 'TROW', 'ISRG', 'PRGO', 'TPR', 'DVN', 'MRO', 'BA',\n",
       "       'VRTX',\n",
       "       ...\n",
       "       'M', 'CRM', 'PGR', 'WAT', 'BWA', 'LRCX', 'NWL', 'UAA', 'BLK', 'PPL'],\n",
       "      dtype='object', length=429)"
      ]
     },
     "execution_count": 12,
     "metadata": {},
     "output_type": "execute_result"
    }
   ],
   "source": [
    "columns = df_returns.columns\n",
    "columns"
   ]
  },
  {
   "cell_type": "code",
   "execution_count": 13,
   "id": "5dac20a0-dde7-4eb8-a938-f8c832a05623",
   "metadata": {},
   "outputs": [
    {
     "data": {
      "text/plain": [
       "['AAPL', 'MSFT', 'AMZN', 'JNJ', 'V', 'PG', 'JPM']"
      ]
     },
     "execution_count": 13,
     "metadata": {},
     "output_type": "execute_result"
    }
   ],
   "source": [
    "x_cols = ['AAPL', 'MSFT', 'AMZN', 'JNJ', 'V', 'PG', 'JPM']\n",
    "x_cols"
   ]
  },
  {
   "cell_type": "code",
   "execution_count": 14,
   "id": "c0df6bee-965e-455c-8592-862f356ffe51",
   "metadata": {},
   "outputs": [],
   "source": [
    "x_train = train[x_cols]\n",
    "y_train = train[\"SPY\"]\n",
    "x_test = test[x_cols]\n",
    "y_test = test[\"SPY\"]"
   ]
  },
  {
   "cell_type": "code",
   "execution_count": 15,
   "id": "53a79c89-2ccb-4f1b-8c22-abb379e9ad1d",
   "metadata": {},
   "outputs": [
    {
     "data": {
      "text/html": [
       "<div>\n",
       "<style scoped>\n",
       "    .dataframe tbody tr th:only-of-type {\n",
       "        vertical-align: middle;\n",
       "    }\n",
       "\n",
       "    .dataframe tbody tr th {\n",
       "        vertical-align: top;\n",
       "    }\n",
       "\n",
       "    .dataframe thead th {\n",
       "        text-align: right;\n",
       "    }\n",
       "</style>\n",
       "<table border=\"1\" class=\"dataframe\">\n",
       "  <thead>\n",
       "    <tr style=\"text-align: right;\">\n",
       "      <th></th>\n",
       "      <th>AAPL</th>\n",
       "      <th>MSFT</th>\n",
       "      <th>AMZN</th>\n",
       "      <th>JNJ</th>\n",
       "      <th>V</th>\n",
       "      <th>PG</th>\n",
       "      <th>JPM</th>\n",
       "    </tr>\n",
       "    <tr>\n",
       "      <th>Date</th>\n",
       "      <th></th>\n",
       "      <th></th>\n",
       "      <th></th>\n",
       "      <th></th>\n",
       "      <th></th>\n",
       "      <th></th>\n",
       "      <th></th>\n",
       "    </tr>\n",
       "  </thead>\n",
       "  <tbody>\n",
       "    <tr>\n",
       "      <th>2010-01-05</th>\n",
       "      <td>0.001727</td>\n",
       "      <td>0.000323</td>\n",
       "      <td>0.005883</td>\n",
       "      <td>-0.011663</td>\n",
       "      <td>-0.011525</td>\n",
       "      <td>0.000327</td>\n",
       "      <td>0.019185</td>\n",
       "    </tr>\n",
       "    <tr>\n",
       "      <th>2010-01-06</th>\n",
       "      <td>-0.016034</td>\n",
       "      <td>-0.006156</td>\n",
       "      <td>-0.018282</td>\n",
       "      <td>0.008101</td>\n",
       "      <td>-0.013519</td>\n",
       "      <td>-0.004755</td>\n",
       "      <td>0.005479</td>\n",
       "    </tr>\n",
       "    <tr>\n",
       "      <th>2010-01-07</th>\n",
       "      <td>-0.001850</td>\n",
       "      <td>-0.010454</td>\n",
       "      <td>-0.017160</td>\n",
       "      <td>-0.007163</td>\n",
       "      <td>0.009264</td>\n",
       "      <td>-0.005438</td>\n",
       "      <td>0.019615</td>\n",
       "    </tr>\n",
       "    <tr>\n",
       "      <th>2010-01-08</th>\n",
       "      <td>0.006626</td>\n",
       "      <td>0.006873</td>\n",
       "      <td>0.026717</td>\n",
       "      <td>0.003432</td>\n",
       "      <td>0.002762</td>\n",
       "      <td>-0.001323</td>\n",
       "      <td>-0.002459</td>\n",
       "    </tr>\n",
       "    <tr>\n",
       "      <th>2010-01-11</th>\n",
       "      <td>-0.008861</td>\n",
       "      <td>-0.012802</td>\n",
       "      <td>-0.024335</td>\n",
       "      <td>0.000156</td>\n",
       "      <td>-0.002878</td>\n",
       "      <td>-0.003979</td>\n",
       "      <td>-0.003363</td>\n",
       "    </tr>\n",
       "  </tbody>\n",
       "</table>\n",
       "</div>"
      ],
      "text/plain": [
       "                AAPL      MSFT      AMZN       JNJ         V        PG  \\\n",
       "Date                                                                     \n",
       "2010-01-05  0.001727  0.000323  0.005883 -0.011663 -0.011525  0.000327   \n",
       "2010-01-06 -0.016034 -0.006156 -0.018282  0.008101 -0.013519 -0.004755   \n",
       "2010-01-07 -0.001850 -0.010454 -0.017160 -0.007163  0.009264 -0.005438   \n",
       "2010-01-08  0.006626  0.006873  0.026717  0.003432  0.002762 -0.001323   \n",
       "2010-01-11 -0.008861 -0.012802 -0.024335  0.000156 -0.002878 -0.003979   \n",
       "\n",
       "                 JPM  \n",
       "Date                  \n",
       "2010-01-05  0.019185  \n",
       "2010-01-06  0.005479  \n",
       "2010-01-07  0.019615  \n",
       "2010-01-08 -0.002459  \n",
       "2010-01-11 -0.003363  "
      ]
     },
     "execution_count": 15,
     "metadata": {},
     "output_type": "execute_result"
    }
   ],
   "source": [
    "x_train.head()"
   ]
  },
  {
   "cell_type": "markdown",
   "id": "6ec620dd-c7d8-4f2c-97a2-b3e73d4d6bf8",
   "metadata": {},
   "source": [
    "## Predictions"
   ]
  },
  {
   "cell_type": "code",
   "execution_count": 16,
   "id": "f9565a1f-9551-47b0-8bbd-7425c3140930",
   "metadata": {},
   "outputs": [],
   "source": [
    "from sklearn.linear_model import LinearRegression "
   ]
  },
  {
   "cell_type": "code",
   "execution_count": 17,
   "id": "b4a35a19-6fbe-4195-9750-ab0af946429e",
   "metadata": {},
   "outputs": [
    {
     "data": {
      "text/plain": [
       "(0.008271754178782564, -0.011369618185063324)"
      ]
     },
     "execution_count": 17,
     "metadata": {},
     "output_type": "execute_result"
    }
   ],
   "source": [
    "model = LinearRegression()\n",
    "model.fit(x_train, y_train)\n",
    "\n",
    "# model.score valuta quanto il modello predice correttamente rispetto al target.\n",
    "# Il punteggio va da 0 a 1, dove 0 è la predizione del valore medio (naive) e 1 è predizione perfetta\n",
    "# Un valore negativo è persino peggiore della baseline (naive prediction)\n",
    "model.score(x_train, y_train), model.score(x_test, y_test)"
   ]
  },
  {
   "cell_type": "code",
   "execution_count": 18,
   "id": "7cc961c3-bf47-4816-afd8-1d5424f9607b",
   "metadata": {},
   "outputs": [
    {
     "data": {
      "text/plain": [
       "(0.528526148969889, 0.5285285285285285)"
      ]
     },
     "execution_count": 18,
     "metadata": {},
     "output_type": "execute_result"
    }
   ],
   "source": [
    "# Ok, per ora noi ci interessiamo di predire effettivamente il SEGNO della predizione, più che del valore\n",
    "# Calcoliamo la \"direzione\"\n",
    "train_prediction = model.predict(x_train)\n",
    "test_prediction = model.predict(x_test)\n",
    "# Valutiamo sulla base dei segni: facciamo la media in cui indoviniamo il segno\n",
    "# E' come se fosse una classification accuracy\n",
    "# La chance è poco maggiore a 0.50, quindi praticamente poco più del lancio di moneta\n",
    "np.mean(np.sign(y_train) == np.sign(train_prediction)), np.mean(np.sign(y_test) == np.sign(test_prediction))"
   ]
  },
  {
   "cell_type": "code",
   "execution_count": 19,
   "id": "ba807a0b-ab5b-48ad-8e86-7b1662fc283f",
   "metadata": {},
   "outputs": [
    {
     "data": {
      "text/plain": [
       "({-1.0, 1.0}, {-1.0, 1.0})"
      ]
     },
     "execution_count": 19,
     "metadata": {},
     "output_type": "execute_result"
    }
   ],
   "source": [
    "# Con set creiamo un insieme dove non sono ammessi duplicati. Perchè?\n",
    "# La funzione np.sign è leggermente subdola. Se i valori sono uguali a 0, avremo come risultato nè + (1) nè - (-1) ma 0\n",
    "# Controlliamo non ce ne siano\n",
    "set(np.sign(train_prediction)), set(np.sign(test_prediction))"
   ]
  },
  {
   "cell_type": "code",
   "execution_count": 20,
   "id": "84a985de-bc71-40cd-9e56-843cf8a431aa",
   "metadata": {},
   "outputs": [
    {
     "name": "stderr",
     "output_type": "stream",
     "text": [
      "C:\\Users\\emili\\AppData\\Local\\Temp\\ipykernel_12668\\3239165886.py:10: PerformanceWarning: DataFrame is highly fragmented.  This is usually the result of calling `frame.insert` many times, which has poor performance.  Consider joining all columns at once using pd.concat(axis=1) instead. To get a de-fragmented frame, use `newframe = frame.copy()`\n",
      "  df_returns[\"Position\"] = 0\n"
     ]
    }
   ],
   "source": [
    "# Solito trucco per usare loc e indicizzare per parti un df\n",
    "train_idx = df.index <= train.index[-1]\n",
    "test_idx = df.index > train.index[-1]\n",
    "\n",
    "# Settiamo il primo e l'ultimo valore a false perchè non li vogliamo (sono NAN)\n",
    "train_idx[0] = False \n",
    "test_idx[-1] = False\n",
    "\n",
    "# creiamo una nuova colonna, per adesso a 0 -> Colonna IsInvested\n",
    "df_returns[\"Position\"] = 0\n",
    "# Popoliamo la colonna di 1 laddove volessimo comprare. Con la parentesi è come se mettessimo True o False in base alla condizione\n",
    "df_returns.loc[train_idx, \"Position\"] = (train_prediction > 0).astype(\"int\")\n",
    "df_returns.loc[test_idx, \"Position\"] = (test_prediction > 0).astype(\"int\")"
   ]
  },
  {
   "cell_type": "code",
   "execution_count": 21,
   "id": "d90a1e42-b91f-42b2-aa76-919e6e7d4186",
   "metadata": {},
   "outputs": [
    {
     "name": "stderr",
     "output_type": "stream",
     "text": [
      "C:\\Users\\emili\\AppData\\Local\\Temp\\ipykernel_12668\\402297896.py:1: PerformanceWarning: DataFrame is highly fragmented.  This is usually the result of calling `frame.insert` many times, which has poor performance.  Consider joining all columns at once using pd.concat(axis=1) instead. To get a de-fragmented frame, use `newframe = frame.copy()`\n",
      "  df_returns[\"AlgoReturn\"] = df_returns[\"Position\"] * df_returns[\"SPY\"]\n"
     ]
    }
   ],
   "source": [
    "df_returns[\"AlgoReturn\"] = df_returns[\"Position\"] * df_returns[\"SPY\"]"
   ]
  },
  {
   "cell_type": "code",
   "execution_count": 22,
   "id": "0c7b9cc4-a542-4eb2-a75a-599d3d29f726",
   "metadata": {},
   "outputs": [
    {
     "data": {
      "text/plain": [
       "(0.5477174926058392, 0.5863972019814705)"
      ]
     },
     "execution_count": 22,
     "metadata": {},
     "output_type": "execute_result"
    }
   ],
   "source": [
    "# Confronto tra Modello (sx) e Hold and Buy (dx) sul train set\n",
    "df_returns.loc[train_idx, \"AlgoReturn\"].sum(), y_train.sum()"
   ]
  },
  {
   "cell_type": "code",
   "execution_count": 23,
   "id": "ea894155-c1ab-471b-be5b-32ff8f53bb65",
   "metadata": {},
   "outputs": [
    {
     "data": {
      "text/plain": [
       "(0.3037759916491991, 0.19307543946998518)"
      ]
     },
     "execution_count": 23,
     "metadata": {},
     "output_type": "execute_result"
    }
   ],
   "source": [
    "# Confronto tra Modello (sx) e Hold and Buy (dx) sul test set\n",
    "df_returns.loc[test_idx, \"AlgoReturn\"].sum(), y_test.sum()"
   ]
  },
  {
   "cell_type": "code",
   "execution_count": 24,
   "id": "d9e4ed60-2779-4276-9ec5-b0b87ecca78b",
   "metadata": {},
   "outputs": [
    {
     "data": {
      "text/plain": [
       "(0.8514934842550383, 0.782116240308401)"
      ]
     },
     "execution_count": 24,
     "metadata": {},
     "output_type": "execute_result"
    }
   ],
   "source": [
    "df_returns[\"AlgoReturn\"].sum(), df_returns[\"SPY\"].sum()"
   ]
  },
  {
   "cell_type": "markdown",
   "id": "0416156e-46a2-44d2-9ecb-e31ec76ff8d3",
   "metadata": {},
   "source": [
    "## Classification Approach\n",
    "\n",
    "Fino ad ora abbiamo usato la regressione lineare per ottenere i risultati, anche se ci sono serviti unicamente i segni.\n",
    "Ora andiamo di un approccio basato sulla classificazione"
   ]
  },
  {
   "cell_type": "code",
   "execution_count": 25,
   "id": "9fa134af-529e-45e4-8793-4191b8a02514",
   "metadata": {},
   "outputs": [],
   "source": [
    "from sklearn.linear_model import LogisticRegression"
   ]
  },
  {
   "cell_type": "code",
   "execution_count": 30,
   "id": "68c87967-a1ae-41b1-9702-294a6d375eb2",
   "metadata": {},
   "outputs": [
    {
     "data": {
      "text/plain": [
       "(0.5586370839936609, 0.5285285285285285)"
      ]
     },
     "execution_count": 30,
     "metadata": {},
     "output_type": "execute_result"
    }
   ],
   "source": [
    "# C controlla un parametro di penalizzazione della regolarizzazione. Evita che i pesi diventino troppo grandi, portando ad alcuni\n",
    "# specifici problemi\n",
    "model = LogisticRegression(C=10)\n",
    "# Creiamo la versione classe del segno. Metteremo a True tutti i valori di SPY > 0 per train e test set\n",
    "class_train = (y_train > 0)\n",
    "class_test = (y_test > 0)\n",
    "model.fit(x_train, class_train)\n",
    "model.score(x_train, class_train), model.score(x_test, class_test)"
   ]
  },
  {
   "cell_type": "code",
   "execution_count": 34,
   "id": "7b3d6256-de45-4672-9390-2d58b98b9d56",
   "metadata": {},
   "outputs": [
    {
     "data": {
      "text/plain": [
       "({False, True}, {False, True})"
      ]
     },
     "execution_count": 34,
     "metadata": {},
     "output_type": "execute_result"
    }
   ],
   "source": [
    "# Prendiamo le predizioni. Set ci serve per capire cosa viene predetto.\n",
    "p_train = model.predict(x_train)\n",
    "p_test = model.predict(x_test)\n",
    "set(p_train), set(p_test)"
   ]
  },
  {
   "cell_type": "code",
   "execution_count": 37,
   "id": "d9d797f3-5351-44df-8c8b-b893a8559a6a",
   "metadata": {},
   "outputs": [],
   "source": [
    "df_returns.loc[train_idx, \"Position\"] = p_train.astype(\"int64\")\n",
    "df_returns.loc[test_idx, \"Position\"] = p_test.astype(\"int64\")\n",
    "df_returns[\"AlgoReturn\"] = df_returns[\"Position\"] * df_returns[\"SPY\"]"
   ]
  },
  {
   "cell_type": "code",
   "execution_count": 38,
   "id": "f29af50e-8b83-4504-8b14-d38661ea2ca4",
   "metadata": {},
   "outputs": [
    {
     "data": {
      "text/plain": [
       "(0.5905718759742236, 0.5863972019814705)"
      ]
     },
     "execution_count": 38,
     "metadata": {},
     "output_type": "execute_result"
    }
   ],
   "source": [
    "df_returns.loc[train_idx, \"AlgoReturn\"].sum(), y_train.sum()"
   ]
  },
  {
   "cell_type": "code",
   "execution_count": 39,
   "id": "4cafd356-a9f7-4796-9ac6-f17dbe116815",
   "metadata": {},
   "outputs": [
    {
     "data": {
      "text/plain": [
       "(0.19680747922142316, 0.19307543946998518)"
      ]
     },
     "execution_count": 39,
     "metadata": {},
     "output_type": "execute_result"
    }
   ],
   "source": [
    "df_returns.loc[test_idx, \"AlgoReturn\"].sum(), y_test.sum()"
   ]
  },
  {
   "cell_type": "code",
   "execution_count": 40,
   "id": "a3145a1d-4563-4249-855d-157dcf69ea49",
   "metadata": {},
   "outputs": [
    {
     "data": {
      "text/plain": [
       "(0.7873793551956467, 0.782116240308401)"
      ]
     },
     "execution_count": 40,
     "metadata": {},
     "output_type": "execute_result"
    }
   ],
   "source": [
    "df_returns[\"AlgoReturn\"].sum(), df_returns[\"SPY\"].sum()"
   ]
  },
  {
   "cell_type": "markdown",
   "id": "06dbb3f2-a4a3-4ea0-9e9c-8e6e7d89e83a",
   "metadata": {},
   "source": [
    "## RandomForest Classifier\n",
    "\n",
    "Proviamo con un modello più potente adesso"
   ]
  },
  {
   "cell_type": "code",
   "execution_count": 42,
   "id": "d5ea5ec8-0b40-4879-8316-ebfe5c5691fc",
   "metadata": {},
   "outputs": [],
   "source": [
    "from sklearn.ensemble import RandomForestClassifier"
   ]
  },
  {
   "cell_type": "code",
   "execution_count": 105,
   "id": "c39147da-1418-4257-aa88-62a181c3b168",
   "metadata": {},
   "outputs": [
    {
     "data": {
      "text/plain": [
       "(1.0, 0.5125125125125125)"
      ]
     },
     "execution_count": 105,
     "metadata": {},
     "output_type": "execute_result"
    }
   ],
   "source": [
    "rf = RandomForestClassifier(n_estimators=500, random_state=100)\n",
    "rf.fit(x_train, class_train)\n",
    "# Uh oh, sembra che abbiamo dell'overfit pesante qui.\n",
    "# Questo succede perchè un classificatore RF è molto potente, tanto da prendersi il noise del dataset\n",
    "# Ho ridotto dal default di 100 a 5 il numero di stimatori, in modo da prendere meno rumore e aumentare la precisione nel test set.\n",
    "# Questa scelta, tuttavia, ha aumentato la varianza dei risultati: cambiando random state a 1 abbiamo avuto persino ritorni negativi!!\n",
    "# Aumentando gli stimatori a 500, invece, sembra che siamo più resistenti alla varianza\n",
    "rf.score(x_train, class_train), rf.score(x_test, class_test)"
   ]
  },
  {
   "cell_type": "code",
   "execution_count": 106,
   "id": "2a9e8e29-8022-44b9-a51f-30774eff9856",
   "metadata": {},
   "outputs": [
    {
     "data": {
      "text/plain": [
       "{False, True}"
      ]
     },
     "execution_count": 106,
     "metadata": {},
     "output_type": "execute_result"
    }
   ],
   "source": [
    "p_train = rf.predict(x_train)\n",
    "p_test = rf.predict(x_test)\n",
    "set(p_train)"
   ]
  },
  {
   "cell_type": "code",
   "execution_count": 107,
   "id": "98f2e808-b852-4b3b-859f-352f955ebf37",
   "metadata": {},
   "outputs": [],
   "source": [
    "df_returns.loc[train_idx, \"Position\"] = p_train.astype(\"int64\")\n",
    "df_returns.loc[test_idx, \"Position\"] = p_test.astype(\"int64\")\n",
    "df_returns[\"AlgoReturn\"] = df_returns[\"Position\"] * df_returns[\"SPY\"]"
   ]
  },
  {
   "cell_type": "code",
   "execution_count": 108,
   "id": "219971fb-4a8b-4e28-807d-1785749f9b79",
   "metadata": {},
   "outputs": [
    {
     "data": {
      "text/plain": [
       "(4.706503557502187, 0.5863972019814705)"
      ]
     },
     "execution_count": 108,
     "metadata": {},
     "output_type": "execute_result"
    }
   ],
   "source": [
    "df_returns.loc[train_idx, \"AlgoReturn\"].sum(), y_train.sum()"
   ]
  },
  {
   "cell_type": "code",
   "execution_count": 109,
   "id": "caa9170f-97ee-48c7-9061-274fc82f94c3",
   "metadata": {},
   "outputs": [
    {
     "data": {
      "text/plain": [
       "(0.2885155161673776, 0.19307543946998518)"
      ]
     },
     "execution_count": 109,
     "metadata": {},
     "output_type": "execute_result"
    }
   ],
   "source": [
    "df_returns.loc[test_idx, \"AlgoReturn\"].sum(), y_test.sum()"
   ]
  },
  {
   "cell_type": "markdown",
   "id": "98e8084f-4391-45fc-a2c6-e7edca30a684",
   "metadata": {},
   "source": [
    "## Conclusioni\n",
    "\n",
    "Nessuno dei modelli possiamo essere sicuri che performino bene. I dati di tre mesi fa potrebbero non essere più ottimi dati per l'addestramento alle predizioni future. Le cose possono cambiare ed il rumore che si porta dietro un segnale come quello dei ritorni di mercato non rende l'addestramento facile, anzi.\n",
    "\n",
    "Questo signfica sempre una cosa. Se i dati non sono buoni a predire, puoi usare il modello più potente del mondo, ma non otterrai niente di utile."
   ]
  },
  {
   "cell_type": "code",
   "execution_count": null,
   "id": "44b51ce3-26d9-4c51-af59-5c28f9c117c6",
   "metadata": {},
   "outputs": [],
   "source": []
  }
 ],
 "metadata": {
  "kernelspec": {
   "display_name": "Python 3 (ipykernel)",
   "language": "python",
   "name": "python3"
  },
  "language_info": {
   "codemirror_mode": {
    "name": "ipython",
    "version": 3
   },
   "file_extension": ".py",
   "mimetype": "text/x-python",
   "name": "python",
   "nbconvert_exporter": "python",
   "pygments_lexer": "ipython3",
   "version": "3.12.5"
  }
 },
 "nbformat": 4,
 "nbformat_minor": 5
}
