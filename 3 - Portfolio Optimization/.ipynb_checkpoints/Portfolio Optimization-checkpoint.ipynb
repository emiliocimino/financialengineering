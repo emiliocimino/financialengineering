{
 "cells": [
  {
   "cell_type": "markdown",
   "id": "cc8f5dbb-2dff-43a9-b320-085870cd98b8",
   "metadata": {},
   "source": [
    "# Portfolio Optimization\n",
    "\n",
    "Questo notebook userà tutto ciò che vediamo sulla portfolio optimization, ma sui dati reali di S&P500"
   ]
  },
  {
   "cell_type": "code",
   "execution_count": 1,
   "id": "8e9adc7a-bcdb-4558-8821-20792ce9fb7f",
   "metadata": {},
   "outputs": [],
   "source": [
    "import numpy as np\n",
    "import pandas as pd\n",
    "import matplotlib.pyplot as plt"
   ]
  },
  {
   "cell_type": "code",
   "execution_count": 2,
   "id": "f5399841-47a1-453f-af93-05d381eef7f7",
   "metadata": {},
   "outputs": [],
   "source": [
    "df = pd.read_csv(\"./data/sp500sub.csv\", parse_dates=True, index_col=\"Date\")"
   ]
  },
  {
   "cell_type": "code",
   "execution_count": 3,
   "id": "37c1aa77-78cb-4979-b2a1-365429236bc7",
   "metadata": {},
   "outputs": [
    {
     "data": {
      "text/plain": [
       "Index(['Open', 'High', 'Low', 'Close', 'Adj Close', 'Volume', 'Name'], dtype='object')"
      ]
     },
     "execution_count": 3,
     "metadata": {},
     "output_type": "execute_result"
    }
   ],
   "source": [
    "df.columns"
   ]
  },
  {
   "cell_type": "code",
   "execution_count": 5,
   "id": "9ffa72c6-4bf6-426a-8002-92acdad7a6ac",
   "metadata": {},
   "outputs": [
    {
     "data": {
      "text/plain": [
       "array(['INCY', 'GILD', 'DXC', 'AFL', 'XYL', 'ARE', 'AMD', 'WYNN', 'IBM',\n",
       "       'ATVI', 'AES', 'GPC', 'PRU', 'HST', 'WMB', 'GOOG', 'SRE', 'HSIC',\n",
       "       'UNP', 'UPS', 'K', 'LYB', 'MDT', 'COF', 'HAS', 'CSX', 'GT', 'SYF',\n",
       "       'EBAY', 'KSS', 'AJG', 'JWN', 'SBUX', 'IT', 'PH', 'DVN', 'MMM',\n",
       "       'SPG', 'AKAM', 'IP', 'CPB', 'KMI', 'AAPL', 'NEM', 'KMX', 'TSCO',\n",
       "       'SYY', 'VNO', 'NWS', 'NBL', 'ACN', 'APH', 'PDCO', 'WLTW', 'FIS',\n",
       "       'URI', 'CBOE', 'FISV', 'BA', 'UAA', 'CVS', 'WU', 'SLB', 'AIV',\n",
       "       'VLO', 'MU', 'CAH', 'AZO', 'CCI', 'ZTS', 'MCO', 'ALLE', 'RHI',\n",
       "       'UAL', 'IR', 'CB', 'VMC', 'GD', 'AAP', 'NEE', 'ABT', 'WFC', 'DIS',\n",
       "       'SNA', 'MAR', 'JPM', 'CLX', 'KIM', 'SCG', 'HBI', 'ABBV', 'RSG',\n",
       "       'ETR', 'ADBE', 'COO', 'HLT', 'INTU', 'SLG', 'GWW', 'COG', 'CBS',\n",
       "       'FB', 'CMS', 'MDLZ'], dtype=object)"
      ]
     },
     "execution_count": 5,
     "metadata": {},
     "output_type": "execute_result"
    }
   ],
   "source": [
    "df[\"Name\"].unique()"
   ]
  },
  {
   "cell_type": "code",
   "execution_count": 6,
   "id": "00806770-3a5d-45f9-b171-5b2ecaa1cb70",
   "metadata": {},
   "outputs": [],
   "source": [
    "# La scelta dei settori differenti aiuta la diversificazione e riduce la correlazione tra azioni\n",
    "names = [\"GOOG\", \"SBUX\", \"KSS\", \"NEM\"]"
   ]
  },
  {
   "cell_type": "code",
   "execution_count": 8,
   "id": "99498468-eb02-404b-9123-76cba220323a",
   "metadata": {},
   "outputs": [
    {
     "name": "stdout",
     "output_type": "stream",
     "text": [
      "126.0 giorni\n"
     ]
    }
   ],
   "source": [
    "# Numero di trading days in un anno = 252. Vogliamo simulare un bilanciamento di portfolio semestrale, quindi\n",
    "print(252/2, \"giorni\")"
   ]
  },
  {
   "cell_type": "code",
   "execution_count": 10,
   "id": "4a5482a1-5256-4af7-ab49-6c43ff800cd9",
   "metadata": {},
   "outputs": [],
   "source": [
    "# Prendiamo tutte le date presenti nel dataframe.\n",
    "# Escludiamo tutte le date di mercato dove non esistono giorni di trading. Per farlo, ci basiamo unicamente sulle date riportate nel csv\n",
    "# prendiamo gli indici (date), li rendiamo unici e li mettiamo in ordine\n",
    "all_dates = df.index.unique().sort_values()"
   ]
  },
  {
   "cell_type": "code",
   "execution_count": 11,
   "id": "1eaad844-552e-4718-ba5c-338ebbdc58fe",
   "metadata": {},
   "outputs": [
    {
     "data": {
      "text/plain": [
       "2267"
      ]
     },
     "execution_count": 11,
     "metadata": {},
     "output_type": "execute_result"
    }
   ],
   "source": [
    "len(all_dates)"
   ]
  },
  {
   "cell_type": "code",
   "execution_count": 15,
   "id": "de5d617f-3856-436e-9644-aaab539ebd3a",
   "metadata": {},
   "outputs": [
    {
     "data": {
      "text/plain": [
       "1007"
      ]
     },
     "execution_count": 15,
     "metadata": {},
     "output_type": "execute_result"
    }
   ],
   "source": [
    "# Prendiamo la posizione (indice numerico) della data di partenza. \n",
    "start = all_dates.get_loc('2014-01-02')\n",
    "start"
   ]
  },
  {
   "cell_type": "code",
   "execution_count": 16,
   "id": "54b357ca-6b11-47ac-8260-677855670b3a",
   "metadata": {},
   "outputs": [
    {
     "data": {
      "text/plain": [
       "1130"
      ]
     },
     "execution_count": 16,
     "metadata": {},
     "output_type": "execute_result"
    }
   ],
   "source": [
    "# Prendiamo la posizione (indice numerico) di 6 mesi dopo\n",
    "end = all_dates.get_loc('2014-06-30')\n",
    "end"
   ]
  },
  {
   "cell_type": "code",
   "execution_count": 17,
   "id": "29b3754b-d3d5-4ae4-a5e0-a2bcbcc62297",
   "metadata": {},
   "outputs": [],
   "source": [
    "# prendiamo tutte le date tra gli indici\n",
    "dates = all_dates[start:end+1]"
   ]
  },
  {
   "cell_type": "code",
   "execution_count": 19,
   "id": "b1e16ee0-6c29-4716-8c2f-b56df753064d",
   "metadata": {},
   "outputs": [
    {
     "data": {
      "text/plain": [
       "(pandas.core.indexes.datetimes.DatetimeIndex, 124)"
      ]
     },
     "execution_count": 19,
     "metadata": {},
     "output_type": "execute_result"
    }
   ],
   "source": [
    "type(dates), len(dates)"
   ]
  },
  {
   "cell_type": "code",
   "execution_count": 20,
   "id": "64290c09-ca7a-44f4-bd0c-d550521bed5a",
   "metadata": {},
   "outputs": [],
   "source": [
    "# Creiamo un dataframe apposito nelle date specificate\n",
    "close_prices = pd.DataFrame(index=dates)"
   ]
  },
  {
   "cell_type": "code",
   "execution_count": 21,
   "id": "b5c0e4e2-3b12-493c-be93-6b80f774e4bd",
   "metadata": {},
   "outputs": [],
   "source": [
    "# Creiamo il DF incrementalmente:\n",
    "tmp1 = df.loc[dates]\n",
    "for name in names:\n",
    "    df_sym = tmp1[tmp1[\"Name\"] == name]\n",
    "    df_tmp = pd.DataFrame(data=df_sym[\"Close\"].to_numpy(), index=df_sym.index, columns=[name])\n",
    "    close_prices = close_prices.join(df_tmp) # left join by default"
   ]
  },
  {
   "cell_type": "code",
   "execution_count": 22,
   "id": "e6256e0a-25fc-4848-940f-74209e23d1f8",
   "metadata": {},
   "outputs": [
    {
     "data": {
      "text/html": [
       "<div>\n",
       "<style scoped>\n",
       "    .dataframe tbody tr th:only-of-type {\n",
       "        vertical-align: middle;\n",
       "    }\n",
       "\n",
       "    .dataframe tbody tr th {\n",
       "        vertical-align: top;\n",
       "    }\n",
       "\n",
       "    .dataframe thead th {\n",
       "        text-align: right;\n",
       "    }\n",
       "</style>\n",
       "<table border=\"1\" class=\"dataframe\">\n",
       "  <thead>\n",
       "    <tr style=\"text-align: right;\">\n",
       "      <th></th>\n",
       "      <th>GOOG</th>\n",
       "      <th>SBUX</th>\n",
       "      <th>KSS</th>\n",
       "      <th>NEM</th>\n",
       "    </tr>\n",
       "    <tr>\n",
       "      <th>Date</th>\n",
       "      <th></th>\n",
       "      <th></th>\n",
       "      <th></th>\n",
       "      <th></th>\n",
       "    </tr>\n",
       "  </thead>\n",
       "  <tbody>\n",
       "    <tr>\n",
       "      <th>2014-01-02</th>\n",
       "      <td>554.481689</td>\n",
       "      <td>38.584999</td>\n",
       "      <td>56.990002</td>\n",
       "      <td>23.959999</td>\n",
       "    </tr>\n",
       "    <tr>\n",
       "      <th>2014-01-03</th>\n",
       "      <td>550.436829</td>\n",
       "      <td>38.474998</td>\n",
       "      <td>56.860001</td>\n",
       "      <td>23.920000</td>\n",
       "    </tr>\n",
       "    <tr>\n",
       "      <th>2014-01-06</th>\n",
       "      <td>556.573853</td>\n",
       "      <td>38.084999</td>\n",
       "      <td>56.040001</td>\n",
       "      <td>24.080000</td>\n",
       "    </tr>\n",
       "    <tr>\n",
       "      <th>2014-01-07</th>\n",
       "      <td>567.303589</td>\n",
       "      <td>38.605000</td>\n",
       "      <td>56.099998</td>\n",
       "      <td>23.950001</td>\n",
       "    </tr>\n",
       "    <tr>\n",
       "      <th>2014-01-08</th>\n",
       "      <td>568.484192</td>\n",
       "      <td>39.014999</td>\n",
       "      <td>55.180000</td>\n",
       "      <td>23.400000</td>\n",
       "    </tr>\n",
       "  </tbody>\n",
       "</table>\n",
       "</div>"
      ],
      "text/plain": [
       "                  GOOG       SBUX        KSS        NEM\n",
       "Date                                                   \n",
       "2014-01-02  554.481689  38.584999  56.990002  23.959999\n",
       "2014-01-03  550.436829  38.474998  56.860001  23.920000\n",
       "2014-01-06  556.573853  38.084999  56.040001  24.080000\n",
       "2014-01-07  567.303589  38.605000  56.099998  23.950001\n",
       "2014-01-08  568.484192  39.014999  55.180000  23.400000"
      ]
     },
     "execution_count": 22,
     "metadata": {},
     "output_type": "execute_result"
    }
   ],
   "source": [
    "close_prices.head()"
   ]
  },
  {
   "cell_type": "code",
   "execution_count": 24,
   "id": "8fa5e0f2-bb49-439a-a255-86b11e9d8080",
   "metadata": {},
   "outputs": [
    {
     "data": {
      "text/plain": [
       "0"
      ]
     },
     "execution_count": 24,
     "metadata": {},
     "output_type": "execute_result"
    }
   ],
   "source": [
    "close_prices.isna().sum().sum()"
   ]
  },
  {
   "cell_type": "code",
   "execution_count": 26,
   "id": "096e76a6-9a95-4b99-ae9e-f27322a76343",
   "metadata": {},
   "outputs": [],
   "source": [
    "# In caso di NaNs\n",
    "close_prices.ffill(inplace=True)"
   ]
  },
  {
   "cell_type": "code",
   "execution_count": 27,
   "id": "0322a6e0-9e36-4bb0-95c0-51e54000c61d",
   "metadata": {},
   "outputs": [],
   "source": [
    "# Creiamo un nuovo dataframe per storare i returns. Siccome avremo una data in meno, gli indici partiranno da 1\n",
    "returns = pd.DataFrame(index=close_prices.index[1:])\n"
   ]
  },
  {
   "cell_type": "code",
   "execution_count": 28,
   "id": "6a63efd8-536a-42e3-9042-13093762dcaf",
   "metadata": {},
   "outputs": [],
   "source": [
    "for name in names:\n",
    "    current_returns = close_prices[name].pct_change() # Log returns\n",
    "    returns[name] = current_returns.iloc[1:] * 100"
   ]
  },
  {
   "cell_type": "code",
   "execution_count": 29,
   "id": "36c8cfbb-7704-441b-8acb-47693775a5c0",
   "metadata": {},
   "outputs": [
    {
     "data": {
      "text/html": [
       "<div>\n",
       "<style scoped>\n",
       "    .dataframe tbody tr th:only-of-type {\n",
       "        vertical-align: middle;\n",
       "    }\n",
       "\n",
       "    .dataframe tbody tr th {\n",
       "        vertical-align: top;\n",
       "    }\n",
       "\n",
       "    .dataframe thead th {\n",
       "        text-align: right;\n",
       "    }\n",
       "</style>\n",
       "<table border=\"1\" class=\"dataframe\">\n",
       "  <thead>\n",
       "    <tr style=\"text-align: right;\">\n",
       "      <th></th>\n",
       "      <th>GOOG</th>\n",
       "      <th>SBUX</th>\n",
       "      <th>KSS</th>\n",
       "      <th>NEM</th>\n",
       "    </tr>\n",
       "    <tr>\n",
       "      <th>Date</th>\n",
       "      <th></th>\n",
       "      <th></th>\n",
       "      <th></th>\n",
       "      <th></th>\n",
       "    </tr>\n",
       "  </thead>\n",
       "  <tbody>\n",
       "    <tr>\n",
       "      <th>2014-01-03</th>\n",
       "      <td>-0.729485</td>\n",
       "      <td>-0.285086</td>\n",
       "      <td>-0.228112</td>\n",
       "      <td>-0.166941</td>\n",
       "    </tr>\n",
       "    <tr>\n",
       "      <th>2014-01-06</th>\n",
       "      <td>1.114937</td>\n",
       "      <td>-1.013644</td>\n",
       "      <td>-1.442138</td>\n",
       "      <td>0.668896</td>\n",
       "    </tr>\n",
       "    <tr>\n",
       "      <th>2014-01-07</th>\n",
       "      <td>1.927819</td>\n",
       "      <td>1.365368</td>\n",
       "      <td>0.107062</td>\n",
       "      <td>-0.539864</td>\n",
       "    </tr>\n",
       "    <tr>\n",
       "      <th>2014-01-08</th>\n",
       "      <td>0.208108</td>\n",
       "      <td>1.062038</td>\n",
       "      <td>-1.639925</td>\n",
       "      <td>-2.296456</td>\n",
       "    </tr>\n",
       "    <tr>\n",
       "      <th>2014-01-09</th>\n",
       "      <td>-0.962997</td>\n",
       "      <td>-0.551071</td>\n",
       "      <td>0.688657</td>\n",
       "      <td>-0.854696</td>\n",
       "    </tr>\n",
       "  </tbody>\n",
       "</table>\n",
       "</div>"
      ],
      "text/plain": [
       "                GOOG      SBUX       KSS       NEM\n",
       "Date                                              \n",
       "2014-01-03 -0.729485 -0.285086 -0.228112 -0.166941\n",
       "2014-01-06  1.114937 -1.013644 -1.442138  0.668896\n",
       "2014-01-07  1.927819  1.365368  0.107062 -0.539864\n",
       "2014-01-08  0.208108  1.062038 -1.639925 -2.296456\n",
       "2014-01-09 -0.962997 -0.551071  0.688657 -0.854696"
      ]
     },
     "execution_count": 29,
     "metadata": {},
     "output_type": "execute_result"
    }
   ],
   "source": [
    "returns.head()"
   ]
  },
  {
   "cell_type": "code",
   "execution_count": 31,
   "id": "65ff7d80-613d-4613-b2f6-f05592814b75",
   "metadata": {},
   "outputs": [
    {
     "data": {
      "text/plain": [
       "GOOG    0.038691\n",
       "SBUX    0.009955\n",
       "KSS    -0.053793\n",
       "NEM     0.072932\n",
       "dtype: float64"
      ]
     },
     "execution_count": 31,
     "metadata": {},
     "output_type": "execute_result"
    }
   ],
   "source": [
    "mean_returns = returns.mean()\n",
    "mean_returns"
   ]
  },
  {
   "cell_type": "code",
   "execution_count": 32,
   "id": "1fe0886b-d764-45c6-adb2-d5dbadd43f48",
   "metadata": {},
   "outputs": [
    {
     "data": {
      "text/html": [
       "<div>\n",
       "<style scoped>\n",
       "    .dataframe tbody tr th:only-of-type {\n",
       "        vertical-align: middle;\n",
       "    }\n",
       "\n",
       "    .dataframe tbody tr th {\n",
       "        vertical-align: top;\n",
       "    }\n",
       "\n",
       "    .dataframe thead th {\n",
       "        text-align: right;\n",
       "    }\n",
       "</style>\n",
       "<table border=\"1\" class=\"dataframe\">\n",
       "  <thead>\n",
       "    <tr style=\"text-align: right;\">\n",
       "      <th></th>\n",
       "      <th>GOOG</th>\n",
       "      <th>SBUX</th>\n",
       "      <th>KSS</th>\n",
       "      <th>NEM</th>\n",
       "    </tr>\n",
       "  </thead>\n",
       "  <tbody>\n",
       "    <tr>\n",
       "      <th>GOOG</th>\n",
       "      <td>2.206565</td>\n",
       "      <td>0.832469</td>\n",
       "      <td>0.771772</td>\n",
       "      <td>-0.033600</td>\n",
       "    </tr>\n",
       "    <tr>\n",
       "      <th>SBUX</th>\n",
       "      <td>0.832469</td>\n",
       "      <td>1.558406</td>\n",
       "      <td>0.714586</td>\n",
       "      <td>0.374448</td>\n",
       "    </tr>\n",
       "    <tr>\n",
       "      <th>KSS</th>\n",
       "      <td>0.771772</td>\n",
       "      <td>0.714586</td>\n",
       "      <td>2.025854</td>\n",
       "      <td>0.180308</td>\n",
       "    </tr>\n",
       "    <tr>\n",
       "      <th>NEM</th>\n",
       "      <td>-0.033600</td>\n",
       "      <td>0.374448</td>\n",
       "      <td>0.180308</td>\n",
       "      <td>4.815104</td>\n",
       "    </tr>\n",
       "  </tbody>\n",
       "</table>\n",
       "</div>"
      ],
      "text/plain": [
       "          GOOG      SBUX       KSS       NEM\n",
       "GOOG  2.206565  0.832469  0.771772 -0.033600\n",
       "SBUX  0.832469  1.558406  0.714586  0.374448\n",
       "KSS   0.771772  0.714586  2.025854  0.180308\n",
       "NEM  -0.033600  0.374448  0.180308  4.815104"
      ]
     },
     "execution_count": 32,
     "metadata": {},
     "output_type": "execute_result"
    }
   ],
   "source": [
    "cov = returns.cov()\n",
    "cov"
   ]
  },
  {
   "cell_type": "code",
   "execution_count": 33,
   "id": "ae334b60-db53-4948-8633-6f53e5f68d67",
   "metadata": {},
   "outputs": [],
   "source": [
    "cov_np = cov.to_numpy() # Usiamo l'array numpy perchè si gestiscono meglio gli indici"
   ]
  },
  {
   "cell_type": "code",
   "execution_count": 34,
   "id": "8b457787-cf47-4a42-84ae-755909fd3b90",
   "metadata": {},
   "outputs": [],
   "source": [
    "# Ora creiamo il solito scatterplot risk return, sulla base dei dati ottenuti dagli stocks\n",
    "N = 10000 # Numero di campioni da generare\n",
    "D = len(mean_returns) # Numero di stocks, in poche parole\n",
    "returns = np.zeros(N)\n",
    "risks = np.zeros(N)\n",
    "\n",
    "for i in range(N):\n",
    "    rand_range = 1.0 # Ci permette di settare l'ampiezza dei pesi. Con rand_range = 1 abbiamo tra -0.5 e + 0.5\n",
    "    w = np.random.random(D)*rand_range - rand_range/2 # Creiamo dei pesi con possibilità di short selling\n",
    "    w[-1] = w[:-1].sum()\n",
    "    np.random.shuffle(w) # Shuffling sempre per bilanciamento\n",
    "    ret = mean_returns.dot(w)\n",
    "    risk = np.sqrt(w.dot(cov).dot(w))\n",
    "    returns[i] = ret\n",
    "    risks[i] = risk"
   ]
  },
  {
   "cell_type": "code",
   "execution_count": null,
   "id": "63b225c0-14d6-4cc6-b0ee-74adaf9b76f1",
   "metadata": {},
   "outputs": [],
   "source": [
    "# Ora calcoliamo returns e risk per portfolio a singolo asset\n",
    "single_assets_returns = np.zeros(D)\n",
    "single_assets_risks = np.zeros(D)\n",
    "for i in range(D):\n",
    "    single_assets_returns[i] = mean_returns[i]\n",
    "    single_assets_risks[i] = np.sqrt(cov_np[i,i])\n",
    "    "
   ]
  }
 ],
 "metadata": {
  "kernelspec": {
   "display_name": "Python 3 (ipykernel)",
   "language": "python",
   "name": "python3"
  },
  "language_info": {
   "codemirror_mode": {
    "name": "ipython",
    "version": 3
   },
   "file_extension": ".py",
   "mimetype": "text/x-python",
   "name": "python",
   "nbconvert_exporter": "python",
   "pygments_lexer": "ipython3",
   "version": "3.12.5"
  }
 },
 "nbformat": 4,
 "nbformat_minor": 5
}
